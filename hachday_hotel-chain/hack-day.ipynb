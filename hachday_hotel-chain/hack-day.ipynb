{
 "cells": [
  {
   "cell_type": "code",
   "execution_count": 1,
   "metadata": {},
   "outputs": [
    {
     "data": {
      "image/jpeg": "[encoded data removed]",
      "text/plain": [
       "<IPython.core.display.Image object>"
      ]
     },
     "execution_count": 1,
     "metadata": {
      "image/jpeg": {
       "width": 900
      }
     },
     "output_type": "execute_result"
    }
   ],
   "source": [
    "from IPython.display import Image\n",
    "Image(\"image/hotel.jpeg\", width=900)\n"
   ]
  },
  {
   "cell_type": "markdown",
   "metadata": {},
   "source": [
    "# Hotel Chain Cancellation Rating"
   ]
  },
  {
   "cell_type": "markdown",
   "metadata": {},
   "source": [
    "## Problema de negócio:\n",
    "\n",
    "A rede hoteleira espanhola Costa del Data, está com uma alta demanda de cancelamentos de reservas.\n",
    "\n",
    "A suspeita da diretoria é de que houve uma mudança no comportamento de cancelamentos por parte do consumidor após a pandemia, que ainda não foi compreendida pela rede.\n",
    "\n",
    "Para compreender esse fenômeno, nós \"Only Outliers\" fomos contratamos para desenvolver um modelo de previsão de cancelamentos afim de auxiliar o time de marketing tomar decisões mais assertivas.\n",
    "\n",
    "Questão de negócio:\n",
    "\n",
    "Para obter respostas relevantes do modelo de ML, é importante formular boas perguntas relacionadas ao negócio. Aqui estão algumas perguntas que podem ajudar a direcionar o trabalho do modelo:\n",
    "\n",
    "        - 1. Qual é a probabilidade de um cliente cancelar uma reserva com base em seu histórico de reservas anteriores?\n",
    "\n",
    "        - 2. Existem determinados tipos de quartos que apresentam maior taxa de cancelamento de reservas do que outros?\n",
    "\n",
    "        - 3. Existe alguma sazonalidade na taxa de cancelamento de reservas? Por exemplo, a taxa de cancelamento é maior durante os meses de verão?\n",
    "\n",
    "        - 4. Há algum perfil de cliente que apresenta maior probabilidade de cancelar uma reserva? Por exemplo, clientes que reservam com pouca antecedência ou que reservam por meio de canais de terceiros?\n",
    "\n",
    "        - 5. Existe alguma interação entre diferentes variáveis que possa influenciar a probabilidade de cancelamento de reservas? Por exemplo, a probabilidade de cancelamento é afetada pela duração da estadia ou pelo preço do quarto?\n",
    "\n",
    "        - 6. É possível identificar os clientes que apresentam maior probabilidade de cancelar uma reserva com antecedência, permitindo que a empresa tome medidas para evitar esses cancelamentos?\n",
    "\n",
    "\n",
    "\n",
    "Entre os clientes que fizeram reservas, quais irão cancelar?\n",
    "\n",
    "Relatório com melhores insights de negócio.\n",
    "\n",
    "Tópicos mais relevantes\n",
    "\n",
    "A importância da EDA durante a produção projeto.\n",
    "\n",
    "Insights de negócio.\n",
    "\n",
    "Utilização de Pipelines para organizar a solução.\n",
    "\n",
    "Avaliação do modelo.\n",
    "\n",
    "Os cincos melhores modelos para gerar o modelo final.\n"
   ]
  },
  {
   "cell_type": "markdown",
   "metadata": {},
   "source": [
    "# 0.0 Imports"
   ]
  },
  {
   "cell_type": "code",
   "execution_count": 148,
   "metadata": {},
   "outputs": [],
   "source": [
    "import inflection\n",
    "import io\n",
    "import math\n",
    "import time\n",
    "import random\n",
    "import numpy as np\n",
    "import pandas as pd\n",
    "import seaborn as snb\n",
    "import time\n",
    "import sweetviz as sv\n",
    "import warnings\n",
    "\n",
    "from xgboost import XGBClassifier\n",
    "from scipy import stats\n",
    "from sklearn.neighbors import KNeighborsClassifier\n",
    "from xgboost import XGBClassifier\n",
    "from catboost import CatBoostClassifier\n",
    "from sklearn.ensemble import RandomForestClassifier, GradientBoostingClassifier\n",
    "from sklearn.linear_model import Lasso, LinearRegression, LogisticRegression\n",
    "from sklearn.naive_bayes import BernoulliNB\n",
    "from sklearn.tree import DecisionTreeClassifier\n",
    "from sklearn.utils.class_weight import compute_sample_weight\n",
    "from sklearn.ensemble import RandomForestClassifier, GradientBoostingClassifier\n",
    "from sklearn.model_selection import train_test_split, RandomizedSearchCV\n",
    "from sklearn import tree\n",
    "from boruta import BorutaPy\n",
    "from sklearn.preprocessing import RobustScaler\n",
    "from category_encoders import CountEncoder, TargetEncoder\n",
    "from imblearn.over_sampling import RandomOverSampler\n",
    "from sklearn.preprocessing import LabelEncoder \n",
    "import matplotlib.pyplot as plt\n",
    "from sklearn.metrics import f1_score\n",
    "import datetime\n",
    "\n",
    "\n",
    "\n",
    "%matplotlib inline\n",
    "snb.set_style('whitegrid')\n",
    "warnings.filterwarnings('ignore')\n"
   ]
  },
  {
   "cell_type": "code",
   "execution_count": null,
   "metadata": {},
   "outputs": [],
   "source": []
  },
  {
   "cell_type": "markdown",
   "metadata": {},
   "source": [
    "## Functions"
   ]
  },
  {
   "cell_type": "code",
   "execution_count": 149,
   "metadata": {},
   "outputs": [],
   "source": [
    "def show_dtypes(df):\n",
    "    print(df.dtypes)\n",
    "    return None\n",
    "\n",
    "def show_dimensions(df):\n",
    "    print('Number of rows: {}' .format(df.shape[0]))\n",
    "    print('Number of columns: {}' .format(df.shape[1]))\n",
    "    return None\n",
    "\n",
    "def cramer_v( x, y ):\n",
    "    cm = pd.crosstab( x, y ).to_numpy()\n",
    "    n = cm.sum()\n",
    "    r, k = cm.shape\n",
    "    \n",
    "    chi2 = stats.chi2_contingency( cm )[0]\n",
    "    chi2corr = max( 0, chi2 - (k-1)*(r-1)/(n-1) )\n",
    "    \n",
    "    kcorr = k - (k-1)**2/(n-1)\n",
    "    rcorr = r - (r-1)**2/(n-1)\n",
    "    return round(np.sqrt( (chi2corr/n) / ( min( kcorr-1, rcorr-1 ) ) ),2)"
   ]
  },
  {
   "cell_type": "markdown",
   "metadata": {},
   "source": [
    "# 1.0 Loading Data"
   ]
  },
  {
   "cell_type": "code",
   "execution_count": 150,
   "metadata": {},
   "outputs": [],
   "source": [
    "df_train = pd.read_csv('dataset/train.csv')\n",
    "df_test  = pd.read_csv('dataset/test.csv')\n",
    "sub_m = pd.read_csv('dataset/submission.csv')"
   ]
  },
  {
   "cell_type": "markdown",
   "metadata": {},
   "source": [
    "### Data Description"
   ]
  },
  {
   "cell_type": "code",
   "execution_count": 151,
   "metadata": {},
   "outputs": [],
   "source": [
    "df = df_train.copy()"
   ]
  },
  {
   "cell_type": "code",
   "execution_count": 152,
   "metadata": {},
   "outputs": [
    {
     "data": {
      "text/html": [
       "<div>\n",
       "<style scoped>\n",
       "    .dataframe tbody tr th:only-of-type {\n",
       "        vertical-align: middle;\n",
       "    }\n",
       "\n",
       "    .dataframe tbody tr th {\n",
       "        vertical-align: top;\n",
       "    }\n",
       "\n",
       "    .dataframe thead th {\n",
       "        text-align: right;\n",
       "    }\n",
       "</style>\n",
       "<table border=\"1\" class=\"dataframe\">\n",
       "  <thead>\n",
       "    <tr style=\"text-align: right;\">\n",
       "      <th></th>\n",
       "      <th>id</th>\n",
       "      <th>Meses da reserva até o check-in</th>\n",
       "      <th>Número de pernoites reservadas</th>\n",
       "      <th>Número de hospedes</th>\n",
       "      <th>Reserva Cancelada</th>\n",
       "    </tr>\n",
       "  </thead>\n",
       "  <tbody>\n",
       "    <tr>\n",
       "      <th>count</th>\n",
       "      <td>72159.000000</td>\n",
       "      <td>72159.000000</td>\n",
       "      <td>72159.000000</td>\n",
       "      <td>72156.000000</td>\n",
       "      <td>72159.000000</td>\n",
       "    </tr>\n",
       "    <tr>\n",
       "      <th>mean</th>\n",
       "      <td>60093.687787</td>\n",
       "      <td>7.145928</td>\n",
       "      <td>15.824152</td>\n",
       "      <td>14.258773</td>\n",
       "      <td>0.370418</td>\n",
       "    </tr>\n",
       "    <tr>\n",
       "      <th>std</th>\n",
       "      <td>34726.028006</td>\n",
       "      <td>25.852330</td>\n",
       "      <td>98.248479</td>\n",
       "      <td>96.446167</td>\n",
       "      <td>0.482920</td>\n",
       "    </tr>\n",
       "    <tr>\n",
       "      <th>min</th>\n",
       "      <td>1.000000</td>\n",
       "      <td>1.000000</td>\n",
       "      <td>0.000000</td>\n",
       "      <td>0.000000</td>\n",
       "      <td>0.000000</td>\n",
       "    </tr>\n",
       "    <tr>\n",
       "      <th>25%</th>\n",
       "      <td>30013.500000</td>\n",
       "      <td>1.000000</td>\n",
       "      <td>2.000000</td>\n",
       "      <td>2.000000</td>\n",
       "      <td>0.000000</td>\n",
       "    </tr>\n",
       "    <tr>\n",
       "      <th>50%</th>\n",
       "      <td>60080.000000</td>\n",
       "      <td>3.000000</td>\n",
       "      <td>3.000000</td>\n",
       "      <td>2.000000</td>\n",
       "      <td>0.000000</td>\n",
       "    </tr>\n",
       "    <tr>\n",
       "      <th>75%</th>\n",
       "      <td>90301.000000</td>\n",
       "      <td>6.000000</td>\n",
       "      <td>4.000000</td>\n",
       "      <td>2.000000</td>\n",
       "      <td>1.000000</td>\n",
       "    </tr>\n",
       "    <tr>\n",
       "      <th>max</th>\n",
       "      <td>120265.000000</td>\n",
       "      <td>311.000000</td>\n",
       "      <td>1172.000000</td>\n",
       "      <td>1153.000000</td>\n",
       "      <td>1.000000</td>\n",
       "    </tr>\n",
       "  </tbody>\n",
       "</table>\n",
       "</div>"
      ],
      "text/plain": [
       "                  id  Meses da reserva até o check-in  \\\n",
       "count   72159.000000                     72159.000000   \n",
       "mean    60093.687787                         7.145928   \n",
       "std     34726.028006                        25.852330   \n",
       "min         1.000000                         1.000000   \n",
       "25%     30013.500000                         1.000000   \n",
       "50%     60080.000000                         3.000000   \n",
       "75%     90301.000000                         6.000000   \n",
       "max    120265.000000                       311.000000   \n",
       "\n",
       "       Número de pernoites reservadas  Número de hospedes  Reserva Cancelada  \n",
       "count                    72159.000000        72156.000000       72159.000000  \n",
       "mean                        15.824152           14.258773           0.370418  \n",
       "std                         98.248479           96.446167           0.482920  \n",
       "min                          0.000000            0.000000           0.000000  \n",
       "25%                          2.000000            2.000000           0.000000  \n",
       "50%                          3.000000            2.000000           0.000000  \n",
       "75%                          4.000000            2.000000           1.000000  \n",
       "max                       1172.000000         1153.000000           1.000000  "
      ]
     },
     "execution_count": 152,
     "metadata": {},
     "output_type": "execute_result"
    }
   ],
   "source": [
    "# Verificando as estatísticas básicas do conjunto de dados\n",
    "df.describe()\n"
   ]
  },
  {
   "cell_type": "code",
   "execution_count": 153,
   "metadata": {},
   "outputs": [
    {
     "name": "stdout",
     "output_type": "stream",
     "text": [
      "<class 'pandas.core.frame.DataFrame'>\n",
      "RangeIndex: 72159 entries, 0 to 72158\n",
      "Data columns (total 15 columns):\n",
      " #   Column                                Non-Null Count  Dtype  \n",
      "---  ------                                --------------  -----  \n",
      " 0   id                                    72159 non-null  int64  \n",
      " 1   Classificação do hotel                72159 non-null  object \n",
      " 2   Meses da reserva até o check-in       72159 non-null  int64  \n",
      " 3   Número de pernoites reservadas        72159 non-null  int64  \n",
      " 4   Número de hospedes                    72156 non-null  float64\n",
      " 5   Regime de alimentação                 72159 non-null  object \n",
      " 6   Nacionalidade                         71066 non-null  object \n",
      " 7   Forma de Reserva                      72159 non-null  object \n",
      " 8   Já se hospedou anterioremente         72159 non-null  object \n",
      " 9   Tipo do quarto reservado              72159 non-null  object \n",
      " 10  Reserva feita por agência de turismo  72159 non-null  object \n",
      " 11  Reserva feita por empresa             72159 non-null  object \n",
      " 12  Reserva com Estacionamento            72159 non-null  object \n",
      " 13  Reserva com Observações               72159 non-null  object \n",
      " 14  Reserva Cancelada                     72159 non-null  int64  \n",
      "dtypes: float64(1), int64(4), object(10)\n",
      "memory usage: 8.3+ MB\n"
     ]
    }
   ],
   "source": [
    "# Obter informações gerais sobre o dataframe, Algumas variáveis são numéricas, enquanto outras são categóricas.\n",
    "df.info()\n"
   ]
  },
  {
   "cell_type": "code",
   "execution_count": 154,
   "metadata": {},
   "outputs": [
    {
     "data": {
      "image/png": "[encoded data removed]",
      "text/plain": [
       "<Figure size 1000x1000 with 6 Axes>"
      ]
     },
     "metadata": {},
     "output_type": "display_data"
    }
   ],
   "source": [
    "# Para visualizar a distribuição das variáveis numéricas, podemos utilizar o histograma\n",
    "\n",
    "plt.rcParams['figure.figsize'] = [10,10]\n",
    "num_attributes = df.select_dtypes( include= ['float64', 'int64'] )\n",
    "num_attributes.hist( bins= 100);"
   ]
  },
  {
   "cell_type": "markdown",
   "metadata": {},
   "source": [
    "## Rename columns"
   ]
  },
  {
   "cell_type": "code",
   "execution_count": 155,
   "metadata": {},
   "outputs": [],
   "source": [
    "df = df.rename(columns={'Classificação do hotel': 'hotel_rating', 'Meses da reserva até o check-in': 'month_booking',\n",
    "                        'Número de pernoites reservadas': 'number_stays_booking', 'Número de hospedes': 'number_guests',\n",
    "                        'Regime de alimentação': 'meal_regime', 'Nacionalidade': 'nationality', 'Forma de Reserva': 'reservation_Form',\n",
    "                        'Já se hospedou anterioremente': 'previously_hosted', 'Tipo do quarto reservado': 'type_booked_room',\n",
    "                        'Reserva feita por agência de turismo': 'tourism_agency_booking', 'Reserva feita por empresa': 'company_booking',\n",
    "                        'Reserva com Estacionamento': 'parking_Reservation', 'Reserva com Observações': 'reservation_Observations', 'Reserva Cancelada': 'booking_canceled'})\n"
   ]
  },
  {
   "cell_type": "markdown",
   "metadata": {},
   "source": [
    "## 1.3 Data Dimension"
   ]
  },
  {
   "cell_type": "code",
   "execution_count": 156,
   "metadata": {},
   "outputs": [
    {
     "name": "stdout",
     "output_type": "stream",
     "text": [
      "Number of rows: 72159\n",
      "Number of columns: 15\n"
     ]
    }
   ],
   "source": [
    "# verificando o tamanho do conjunto de dados\n",
    "show_dimensions(df)"
   ]
  },
  {
   "cell_type": "markdown",
   "metadata": {},
   "source": [
    "### Dtypes"
   ]
  },
  {
   "cell_type": "code",
   "execution_count": 157,
   "metadata": {},
   "outputs": [
    {
     "name": "stdout",
     "output_type": "stream",
     "text": [
      "id                            int64\n",
      "hotel_rating                 object\n",
      "month_booking                 int64\n",
      "number_stays_booking          int64\n",
      "number_guests               float64\n",
      "meal_regime                  object\n",
      "nationality                  object\n",
      "reservation_Form             object\n",
      "previously_hosted            object\n",
      "type_booked_room             object\n",
      "tourism_agency_booking       object\n",
      "company_booking              object\n",
      "parking_Reservation          object\n",
      "reservation_Observations     object\n",
      "booking_canceled              int64\n",
      "dtype: object\n"
     ]
    }
   ],
   "source": [
    "show_dtypes(df)"
   ]
  },
  {
   "cell_type": "markdown",
   "metadata": {},
   "source": [
    "## 1.4 Check NaN "
   ]
  },
  {
   "cell_type": "code",
   "execution_count": 158,
   "metadata": {},
   "outputs": [
    {
     "data": {
      "text/plain": [
       "id                             0\n",
       "hotel_rating                   0\n",
       "month_booking                  0\n",
       "number_stays_booking           0\n",
       "number_guests                  3\n",
       "meal_regime                    0\n",
       "nationality                 1093\n",
       "reservation_Form               0\n",
       "previously_hosted              0\n",
       "type_booked_room               0\n",
       "tourism_agency_booking         0\n",
       "company_booking                0\n",
       "parking_Reservation            0\n",
       "reservation_Observations       0\n",
       "booking_canceled               0\n",
       "dtype: int64"
      ]
     },
     "execution_count": 158,
     "metadata": {},
     "output_type": "execute_result"
    }
   ],
   "source": [
    "# Verificando a presença de valores nulos\n",
    "df.isna().sum()#/len(df)"
   ]
  },
  {
   "cell_type": "markdown",
   "metadata": {},
   "source": [
    "### Fill drop Na"
   ]
  },
  {
   "cell_type": "code",
   "execution_count": 159,
   "metadata": {},
   "outputs": [],
   "source": [
    "#df.dropna(inplace=True)\n",
    "df['nationality'] = df['nationality'].apply(\n",
    "    lambda x: 'nao_identificado' if pd.isnull(x) else x)\n",
    "\n",
    "df['number_guests'] = df['number_guests'].apply(\n",
    "    lambda x: 1 if pd.isnull(x) else x)\n"
   ]
  },
  {
   "cell_type": "code",
   "execution_count": 160,
   "metadata": {},
   "outputs": [
    {
     "data": {
      "text/plain": [
       "id                          0\n",
       "hotel_rating                0\n",
       "month_booking               0\n",
       "number_stays_booking        0\n",
       "number_guests               0\n",
       "meal_regime                 0\n",
       "nationality                 0\n",
       "reservation_Form            0\n",
       "previously_hosted           0\n",
       "type_booked_room            0\n",
       "tourism_agency_booking      0\n",
       "company_booking             0\n",
       "parking_Reservation         0\n",
       "reservation_Observations    0\n",
       "booking_canceled            0\n",
       "dtype: int64"
      ]
     },
     "execution_count": 160,
     "metadata": {},
     "output_type": "execute_result"
    }
   ],
   "source": [
    "df.isna().sum()"
   ]
  },
  {
   "cell_type": "code",
   "execution_count": 161,
   "metadata": {},
   "outputs": [
    {
     "data": {
      "text/plain": [
       "0"
      ]
     },
     "execution_count": 161,
     "metadata": {},
     "output_type": "execute_result"
    }
   ],
   "source": [
    "# Verificar valores duplicados\n",
    "df.duplicated().sum()"
   ]
  },
  {
   "cell_type": "code",
   "execution_count": 162,
   "metadata": {},
   "outputs": [
    {
     "data": {
      "text/plain": [
       "id                          0\n",
       "hotel_rating                0\n",
       "month_booking               0\n",
       "number_stays_booking        0\n",
       "number_guests               0\n",
       "meal_regime                 0\n",
       "nationality                 0\n",
       "reservation_Form            0\n",
       "previously_hosted           0\n",
       "type_booked_room            0\n",
       "tourism_agency_booking      0\n",
       "company_booking             0\n",
       "parking_Reservation         0\n",
       "reservation_Observations    0\n",
       "booking_canceled            0\n",
       "dtype: int64"
      ]
     },
     "execution_count": 162,
     "metadata": {},
     "output_type": "execute_result"
    }
   ],
   "source": [
    "df.isna().sum()#/len(df)"
   ]
  },
  {
   "cell_type": "markdown",
   "metadata": {},
   "source": [
    "### Change Type"
   ]
  },
  {
   "cell_type": "code",
   "execution_count": null,
   "metadata": {},
   "outputs": [],
   "source": []
  },
  {
   "cell_type": "code",
   "execution_count": 163,
   "metadata": {},
   "outputs": [],
   "source": [
    "df['id'] = df['id'].astype('int64')\n",
    "\n"
   ]
  },
  {
   "cell_type": "markdown",
   "metadata": {},
   "source": [
    "## 1.6. Data Balancing"
   ]
  },
  {
   "cell_type": "code",
   "execution_count": 164,
   "metadata": {},
   "outputs": [
    {
     "data": {
      "text/plain": [
       "0    0.629582\n",
       "1    0.370418\n",
       "Name: booking_canceled, dtype: float64"
      ]
     },
     "execution_count": 164,
     "metadata": {},
     "output_type": "execute_result"
    }
   ],
   "source": [
    "df['booking_canceled'].value_counts(normalize=True)\n"
   ]
  },
  {
   "cell_type": "markdown",
   "metadata": {},
   "source": [
    "# EDA - Exploratory Data Analysis"
   ]
  },
  {
   "cell_type": "code",
   "execution_count": 165,
   "metadata": {},
   "outputs": [],
   "source": [
    "df1 = df.copy()"
   ]
  },
  {
   "cell_type": "code",
   "execution_count": 166,
   "metadata": {},
   "outputs": [
    {
     "name": "stderr",
     "output_type": "stream",
     "text": [
      "Done! Use 'show' commands to display/save.   |██████████| [100%]   00:01 -> (00:00 left)\n"
     ]
    },
    {
     "name": "stdout",
     "output_type": "stream",
     "text": [
      "Report report.html was generated! NOTEBOOK/COLAB USERS: the web browser MAY not pop up, regardless, the report IS saved in your notebook/colab files.\n"
     ]
    }
   ],
   "source": [
    "\n",
    "\n",
    "# Gerando o relatório completo de análise exploratória de dados\n",
    "report = sv.analyze(df1)\n",
    "\n",
    "# Salvando o relatório em HTML\n",
    "report.show_html('report.html')\n"
   ]
  },
  {
   "cell_type": "markdown",
   "metadata": {},
   "source": [
    "Gráfico de barras: para visualizar a distribuição das variáveis categóricas"
   ]
  },
  {
   "cell_type": "code",
   "execution_count": 167,
   "metadata": {},
   "outputs": [
    {
     "data": {
      "image/png": "[encoded data removed]",
      "text/plain": [
       "<Figure size 1000x1000 with 1 Axes>"
      ]
     },
     "metadata": {},
     "output_type": "display_data"
    }
   ],
   "source": [
    "\n",
    "sns.set(style=\"darkgrid\")\n",
    "\n",
    "# Plotando o gráfico de barras com a contagem\n",
    "ax = sns.countplot(x=\"hotel_rating\",\n",
    "                   hue=\"tourism_agency_booking\", data=df1)\n",
    "\n",
    "# Adicionando o valor da contagem em cima de cada barra\n",
    "for p in ax.patches:\n",
    "    height = p.get_height()\n",
    "    ax.text(p.get_x()+p.get_width()/2., height+3,\n",
    "            '{:.0f}'.format(height), ha=\"center\")\n",
    "\n",
    "plt.show()\n"
   ]
  },
  {
   "cell_type": "code",
   "execution_count": 168,
   "metadata": {},
   "outputs": [
    {
     "data": {
      "image/png": "[encoded data removed]",
      "text/plain": [
       "<Figure size 1000x1000 with 1 Axes>"
      ]
     },
     "metadata": {},
     "output_type": "display_data"
    }
   ],
   "source": [
    "sns.set(style=\"darkgrid\")\n",
    "\n",
    "# Plotando o gráfico de barras com a contagem\n",
    "ax = sns.countplot(x=\"hotel_rating\",\n",
    "                   hue=\"company_booking\", data=df)\n",
    "\n",
    "# Adicionando o valor da contagem em cima de cada barra\n",
    "for p in ax.patches:\n",
    "    height = p.get_height()\n",
    "    ax.text(p.get_x()+p.get_width()/2., height+3,\n",
    "            '{:.0f}'.format(height), ha=\"center\")\n",
    "\n",
    "plt.show()\n"
   ]
  },
  {
   "cell_type": "code",
   "execution_count": 169,
   "metadata": {},
   "outputs": [
    {
     "data": {
      "image/png": "[encoded data removed]",
      "text/plain": [
       "<Figure size 1000x1000 with 1 Axes>"
      ]
     },
     "metadata": {},
     "output_type": "display_data"
    }
   ],
   "source": [
    "\n",
    "\n",
    "# Plotando o gráfico de barras com a contagem\n",
    "ax = sns.countplot(x=\"hotel_rating\",\n",
    "                   hue=\"type_booked_room\", data=df1)\n",
    "\n",
    "# Adicionando o valor da contagem em cima de cada barra\n",
    "for p in ax.patches:\n",
    "    height = p.get_height()\n",
    "    ax.text(p.get_x()+p.get_width()/2., height+3,\n",
    "            '{:.0f}'.format(height), ha=\"center\")\n",
    "sns.set(style=\"darkgrid\")\n",
    "plt.show()\n"
   ]
  },
  {
   "cell_type": "code",
   "execution_count": 170,
   "metadata": {},
   "outputs": [
    {
     "data": {
      "text/html": [
       "<div>\n",
       "<style scoped>\n",
       "    .dataframe tbody tr th:only-of-type {\n",
       "        vertical-align: middle;\n",
       "    }\n",
       "\n",
       "    .dataframe tbody tr th {\n",
       "        vertical-align: top;\n",
       "    }\n",
       "\n",
       "    .dataframe thead th {\n",
       "        text-align: right;\n",
       "    }\n",
       "</style>\n",
       "<table border=\"1\" class=\"dataframe\">\n",
       "  <thead>\n",
       "    <tr style=\"text-align: right;\">\n",
       "      <th></th>\n",
       "      <th>booking_canceled</th>\n",
       "      <th>Total</th>\n",
       "      <th>Percent</th>\n",
       "    </tr>\n",
       "  </thead>\n",
       "  <tbody>\n",
       "    <tr>\n",
       "      <th>0</th>\n",
       "      <td>0</td>\n",
       "      <td>45430</td>\n",
       "      <td>0.629582</td>\n",
       "    </tr>\n",
       "    <tr>\n",
       "      <th>1</th>\n",
       "      <td>1</td>\n",
       "      <td>26729</td>\n",
       "      <td>0.370418</td>\n",
       "    </tr>\n",
       "  </tbody>\n",
       "</table>\n",
       "</div>"
      ],
      "text/plain": [
       "   booking_canceled  Total   Percent\n",
       "0                 0  45430  0.629582\n",
       "1                 1  26729  0.370418"
      ]
     },
     "execution_count": 170,
     "metadata": {},
     "output_type": "execute_result"
    }
   ],
   "source": [
    "percent = df.groupby('booking_canceled')['id'].count().reset_index()\n",
    "percent['Percent'] = percent['id']/df1.shape[0]\n",
    "percent.rename(columns={'id': 'Total'}, inplace=True)\n",
    "percent\n"
   ]
  },
  {
   "cell_type": "markdown",
   "metadata": {},
   "source": [
    "## Multivariate Analysis"
   ]
  },
  {
   "cell_type": "code",
   "execution_count": 171,
   "metadata": {},
   "outputs": [
    {
     "data": {
      "text/plain": [
       "<AxesSubplot:>"
      ]
     },
     "execution_count": 171,
     "metadata": {},
     "output_type": "execute_result"
    },
    {
     "data": {
      "image/png": "[encoded data removed]",
      "text/plain": [
       "<Figure size 500x500 with 2 Axes>"
      ]
     },
     "metadata": {},
     "output_type": "display_data"
    }
   ],
   "source": [
    "# Numerical Variables\n",
    "plt.rcParams['figure.figsize'] = [5, 5]\n",
    "num_attributes = df1.select_dtypes(include=['int64', 'float64'])\n",
    "corr = num_attributes.corr(method='pearson')\n",
    "sns.heatmap(corr, annot=True, fmt='.2f')\n"
   ]
  },
  {
   "cell_type": "code",
   "execution_count": 172,
   "metadata": {},
   "outputs": [
    {
     "data": {
      "image/png": "[encoded data removed]",
      "text/plain": [
       "<Figure size 800x800 with 2 Axes>"
      ]
     },
     "metadata": {},
     "output_type": "display_data"
    }
   ],
   "source": [
    "# Categorical Variables\n",
    "plt.rcParams['figure.figsize'] = [8,8]\n",
    "cat_attributes = df1.select_dtypes(include='object')\n",
    "lista=[]\n",
    "for col in cat_attributes.columns:\n",
    "    lista2 =[]\n",
    "    for col2 in cat_attributes.columns:\n",
    "        lista2.append(cramer_v(cat_attributes[col], cat_attributes[col2]))\n",
    "    lista.append(lista2)\n",
    "cramer = pd.DataFrame(lista,columns=cat_attributes.columns,index=cat_attributes.columns)\n",
    "sns.heatmap(cramer,annot=True);"
   ]
  },
  {
   "cell_type": "markdown",
   "metadata": {},
   "source": [
    "### Data Praration"
   ]
  },
  {
   "cell_type": "code",
   "execution_count": 173,
   "metadata": {},
   "outputs": [],
   "source": [
    "df2 = df1.copy()"
   ]
  },
  {
   "cell_type": "markdown",
   "metadata": {},
   "source": [
    "### Rescaling"
   ]
  },
  {
   "cell_type": "code",
   "execution_count": 174,
   "metadata": {},
   "outputs": [],
   "source": [
    "rs = RobustScaler()\n",
    "\n",
    "# meses_da_reserva_ate_o_check-in - Robust Scaler\n",
    "df2['id'] = rs.fit_transform( df2[['id']].values )\n",
    "\n",
    "# meses_da_reserva_ate_o_check-in - Robust Scaler\n",
    "df2['month_booking'] = rs.fit_transform(df2[['month_booking']].values)\n",
    "\n",
    "# numero_de_pernoites_reservadas - Robust Scaler\n",
    "df2['number_stays_booking'] = rs.fit_transform( df2[['number_stays_booking']].values )\n",
    "\n",
    "# numero_de_hospedes - Robust Scaler\n",
    "df2['number_guests'] = rs.fit_transform( df2[['number_guests']].values )"
   ]
  },
  {
   "cell_type": "code",
   "execution_count": 175,
   "metadata": {},
   "outputs": [
    {
     "data": {
      "text/html": [
       "<div>\n",
       "<style scoped>\n",
       "    .dataframe tbody tr th:only-of-type {\n",
       "        vertical-align: middle;\n",
       "    }\n",
       "\n",
       "    .dataframe tbody tr th {\n",
       "        vertical-align: top;\n",
       "    }\n",
       "\n",
       "    .dataframe thead th {\n",
       "        text-align: right;\n",
       "    }\n",
       "</style>\n",
       "<table border=\"1\" class=\"dataframe\">\n",
       "  <thead>\n",
       "    <tr style=\"text-align: right;\">\n",
       "      <th></th>\n",
       "      <th>booking_canceled</th>\n",
       "      <th>id</th>\n",
       "    </tr>\n",
       "  </thead>\n",
       "  <tbody>\n",
       "    <tr>\n",
       "      <th>0</th>\n",
       "      <td>0</td>\n",
       "      <td>375</td>\n",
       "    </tr>\n",
       "    <tr>\n",
       "      <th>1</th>\n",
       "      <td>1</td>\n",
       "      <td>209</td>\n",
       "    </tr>\n",
       "  </tbody>\n",
       "</table>\n",
       "</div>"
      ],
      "text/plain": [
       "   booking_canceled   id\n",
       "0                 0  375\n",
       "1                 1  209"
      ]
     },
     "execution_count": 175,
     "metadata": {},
     "output_type": "execute_result"
    }
   ],
   "source": [
    "# meses ate o chekin da reserva\n",
    "df2[df2['month_booking']>24].sample(2)\n",
    "df2[df2['month_booking'] > 60][['id', 'booking_canceled']\n",
    "                             ].groupby('booking_canceled').count().reset_index()\n",
    "\n",
    "# numero_de_pernoites_reservadas\n",
    "df2[df2['number_stays_booking']>365].sample(10)\n",
    "df2[df2['number_stays_booking']>365][['id','booking_canceled']].groupby('booking_canceled').count().reset_index()\n",
    "df2[df2['number_stays_booking']>365][['id','booking_canceled']].groupby('booking_canceled').count().reset_index()"
   ]
  },
  {
   "cell_type": "code",
   "execution_count": 176,
   "metadata": {},
   "outputs": [
    {
     "data": {
      "text/html": [
       "<div>\n",
       "<style scoped>\n",
       "    .dataframe tbody tr th:only-of-type {\n",
       "        vertical-align: middle;\n",
       "    }\n",
       "\n",
       "    .dataframe tbody tr th {\n",
       "        vertical-align: top;\n",
       "    }\n",
       "\n",
       "    .dataframe thead th {\n",
       "        text-align: right;\n",
       "    }\n",
       "</style>\n",
       "<table border=\"1\" class=\"dataframe\">\n",
       "  <thead>\n",
       "    <tr style=\"text-align: right;\">\n",
       "      <th></th>\n",
       "      <th>booking_canceled</th>\n",
       "      <th>id</th>\n",
       "    </tr>\n",
       "  </thead>\n",
       "  <tbody>\n",
       "    <tr>\n",
       "      <th>0</th>\n",
       "      <td>0</td>\n",
       "      <td>375</td>\n",
       "    </tr>\n",
       "    <tr>\n",
       "      <th>1</th>\n",
       "      <td>1</td>\n",
       "      <td>209</td>\n",
       "    </tr>\n",
       "  </tbody>\n",
       "</table>\n",
       "</div>"
      ],
      "text/plain": [
       "   booking_canceled   id\n",
       "0                 0  375\n",
       "1                 1  209"
      ]
     },
     "execution_count": 176,
     "metadata": {},
     "output_type": "execute_result"
    }
   ],
   "source": [
    "# numero_de_pernoites_reservadas\n",
    "df2[df2['number_stays_booking']>365].sample(10)\n",
    "df2[df2['number_stays_booking']>365][['id','booking_canceled']].groupby('booking_canceled').count().reset_index()\n",
    "df2[df2['number_stays_booking']>365][['id','booking_canceled']].groupby('booking_canceled').count().reset_index()"
   ]
  },
  {
   "cell_type": "code",
   "execution_count": 177,
   "metadata": {},
   "outputs": [
    {
     "data": {
      "text/html": [
       "<div>\n",
       "<style scoped>\n",
       "    .dataframe tbody tr th:only-of-type {\n",
       "        vertical-align: middle;\n",
       "    }\n",
       "\n",
       "    .dataframe tbody tr th {\n",
       "        vertical-align: top;\n",
       "    }\n",
       "\n",
       "    .dataframe thead th {\n",
       "        text-align: right;\n",
       "    }\n",
       "</style>\n",
       "<table border=\"1\" class=\"dataframe\">\n",
       "  <thead>\n",
       "    <tr style=\"text-align: right;\">\n",
       "      <th></th>\n",
       "      <th>booking_canceled</th>\n",
       "      <th>id</th>\n",
       "    </tr>\n",
       "  </thead>\n",
       "  <tbody>\n",
       "    <tr>\n",
       "      <th>0</th>\n",
       "      <td>0</td>\n",
       "      <td>9326</td>\n",
       "    </tr>\n",
       "    <tr>\n",
       "      <th>1</th>\n",
       "      <td>1</td>\n",
       "      <td>6629</td>\n",
       "    </tr>\n",
       "  </tbody>\n",
       "</table>\n",
       "</div>"
      ],
      "text/plain": [
       "   booking_canceled    id\n",
       "0                 0  9326\n",
       "1                 1  6629"
      ]
     },
     "execution_count": 177,
     "metadata": {},
     "output_type": "execute_result"
    }
   ],
   "source": [
    "df2[df2['number_stays_booking']==0][['id','booking_canceled']].groupby('booking_canceled').count().reset_index()"
   ]
  },
  {
   "cell_type": "code",
   "execution_count": 178,
   "metadata": {},
   "outputs": [
    {
     "data": {
      "text/html": [
       "<div>\n",
       "<style scoped>\n",
       "    .dataframe tbody tr th:only-of-type {\n",
       "        vertical-align: middle;\n",
       "    }\n",
       "\n",
       "    .dataframe tbody tr th {\n",
       "        vertical-align: top;\n",
       "    }\n",
       "\n",
       "    .dataframe thead th {\n",
       "        text-align: right;\n",
       "    }\n",
       "</style>\n",
       "<table border=\"1\" class=\"dataframe\">\n",
       "  <thead>\n",
       "    <tr style=\"text-align: right;\">\n",
       "      <th></th>\n",
       "      <th>company_booking</th>\n",
       "      <th>id</th>\n",
       "    </tr>\n",
       "  </thead>\n",
       "  <tbody>\n",
       "    <tr>\n",
       "      <th>0</th>\n",
       "      <td>Não</td>\n",
       "      <td>1375</td>\n",
       "    </tr>\n",
       "    <tr>\n",
       "      <th>1</th>\n",
       "      <td>Sim</td>\n",
       "      <td>87</td>\n",
       "    </tr>\n",
       "  </tbody>\n",
       "</table>\n",
       "</div>"
      ],
      "text/plain": [
       "  company_booking    id\n",
       "0             Não  1375\n",
       "1             Sim    87"
      ]
     },
     "execution_count": 178,
     "metadata": {},
     "output_type": "execute_result"
    }
   ],
   "source": [
    "df2[df2['number_guests'] > 10][['id',  'company_booking']\n",
    "                               ].groupby('company_booking').count().reset_index()\n"
   ]
  },
  {
   "cell_type": "code",
   "execution_count": 179,
   "metadata": {},
   "outputs": [
    {
     "data": {
      "text/html": [
       "<div>\n",
       "<style scoped>\n",
       "    .dataframe tbody tr th:only-of-type {\n",
       "        vertical-align: middle;\n",
       "    }\n",
       "\n",
       "    .dataframe tbody tr th {\n",
       "        vertical-align: top;\n",
       "    }\n",
       "\n",
       "    .dataframe thead th {\n",
       "        text-align: right;\n",
       "    }\n",
       "</style>\n",
       "<table border=\"1\" class=\"dataframe\">\n",
       "  <thead>\n",
       "    <tr style=\"text-align: right;\">\n",
       "      <th></th>\n",
       "      <th>tourism_agency_booking</th>\n",
       "      <th>id</th>\n",
       "    </tr>\n",
       "  </thead>\n",
       "  <tbody>\n",
       "    <tr>\n",
       "      <th>0</th>\n",
       "      <td>Não</td>\n",
       "      <td>4633</td>\n",
       "    </tr>\n",
       "    <tr>\n",
       "      <th>1</th>\n",
       "      <td>Sim</td>\n",
       "      <td>43961</td>\n",
       "    </tr>\n",
       "  </tbody>\n",
       "</table>\n",
       "</div>"
      ],
      "text/plain": [
       "  tourism_agency_booking     id\n",
       "0                    Não   4633\n",
       "1                    Sim  43961"
      ]
     },
     "execution_count": 179,
     "metadata": {},
     "output_type": "execute_result"
    }
   ],
   "source": [
    "df2[df2['number_guests'] == 0][['id', 'tourism_agency_booking',]\n",
    "                               ].groupby('tourism_agency_booking').count().reset_index()\n"
   ]
  },
  {
   "cell_type": "markdown",
   "metadata": {},
   "source": [
    "### Transformacao"
   ]
  },
  {
   "cell_type": "code",
   "execution_count": 180,
   "metadata": {},
   "outputs": [],
   "source": [
    "df3 = df2.copy()"
   ]
  },
  {
   "cell_type": "code",
   "execution_count": 181,
   "metadata": {},
   "outputs": [],
   "source": [
    "# # classificacao_do_hotel\n",
    "# df4['hotel_rating'] = df4['hotel_rating'].apply(lambda x: int(x.split('estrela')[1]))\n",
    "\n",
    "# # ja_se_hospedou_anterioremente\n",
    "# df4['previously_hosted'] = df4['previously_hosted'].apply(\n",
    "#     lambda x: x.replace('Sim', '1'))\n",
    "# df4['previously_hosted'] = df4['previously_hosted'].apply(\n",
    "#     lambda x: x.replace('Não', '0'))\n",
    "\n",
    "# # reserva_feita_por_agencia_de_turismo\n",
    "# df4['tourism_agency_booking'] = df4['tourism_agency_booking'].apply(\n",
    "#     lambda x: x.replace('Sim', '1'))\n",
    "# df4['tourism_agency_booking'] = df4['tourism_agency_booking'].apply(\n",
    "#     lambda x: x.replace('Não', '0'))\n",
    "\n",
    "# # reserva_com_estacionamento\n",
    "# df4['parking_Reservation'] = df4['parking_Reservation'].apply(\n",
    "#     lambda x: x.replace('Sim', '1'))\n",
    "# df4['parking_Reservation'] = df4['parking_Reservation'].apply(\n",
    "#     lambda x: x.replace('Não', '0'))\n",
    "\n",
    "# # reserva_feita_por_empresa\n",
    "# df4['company_booking'] = df4['company_booking'].apply(\n",
    "#     lambda x: x.replace('Sim', '1'))\n",
    "# df4['company_booking'] = df4['company_booking'].apply(\n",
    "#     lambda x: x.replace('Não', '0'))\n"
   ]
  },
  {
   "cell_type": "code",
   "execution_count": 182,
   "metadata": {},
   "outputs": [
    {
     "data": {
      "text/plain": [
       "array(['Café da manha e jantar', 'Café da manha', 'Sem refeicao',\n",
       "       'Café da manha, almoco e jantar'], dtype=object)"
      ]
     },
     "execution_count": 182,
     "metadata": {},
     "output_type": "execute_result"
    }
   ],
   "source": [
    "df3['meal_regime'].unique()\n"
   ]
  },
  {
   "cell_type": "code",
   "execution_count": 183,
   "metadata": {},
   "outputs": [],
   "source": [
    "# Label Encoder\n",
    "le = LabelEncoder()\n",
    "label_cols = ['meal_regime', 'nationality', 'reservation_Form', 'type_booked_room', 'reservation_Observations']\n",
    "for col in label_cols:\n",
    "    df3[col] = le.fit_transform(df3[col])\n",
    "\n",
    "# Ordinal Encoding\n",
    "classificacao_dict = {'5 estrelas': 5, '4 estrelas': 4}\n",
    "df3['hotel_rating'] = df3['hotel_rating'].map(classificacao_dict)\n",
    "\n",
    "# Boolean\n",
    "bool_cols = ['previously_hosted','tourism_agency_booking','company_booking','parking_Reservation']\n",
    "for col in bool_cols:\n",
    "    df3[col] = df3[col].apply(\n",
    "        lambda x: 0 if x == 'Não' else 1 if x == 'Sim' else x)\n"
   ]
  },
  {
   "cell_type": "code",
   "execution_count": 184,
   "metadata": {},
   "outputs": [],
   "source": [
    "\n",
    "# transform into int\n",
    "df3['hotel_rating'] = df3['hotel_rating'].astype('int')\n",
    "df3['previously_hosted'] = df3['previously_hosted'].astype('int')\n",
    "df3['tourism_agency_booking'] = df3['tourism_agency_booking'].astype('int')\n",
    "df3['company_booking'] = df3['company_booking'].astype('int')\n",
    "df3['parking_Reservation'] = df3['parking_Reservation'].astype('int')\n"
   ]
  },
  {
   "cell_type": "code",
   "execution_count": null,
   "metadata": {},
   "outputs": [],
   "source": []
  },
  {
   "cell_type": "markdown",
   "metadata": {},
   "source": [
    "# Feature Selection"
   ]
  },
  {
   "cell_type": "code",
   "execution_count": 185,
   "metadata": {},
   "outputs": [],
   "source": [
    "df5 = df3.copy()\n",
    "\n",
    "\n",
    "# imputar os valores faltantes com a média\n",
    "df5.fillna(df5.mean(), inplace=True)\n"
   ]
  },
  {
   "cell_type": "code",
   "execution_count": 186,
   "metadata": {},
   "outputs": [],
   "source": [
    "# Split Train Test Dataset\n",
    "\n",
    "X = df5.drop(columns=['booking_canceled'])\n",
    "y = df5[['booking_canceled']]\n"
   ]
  },
  {
   "cell_type": "code",
   "execution_count": 187,
   "metadata": {},
   "outputs": [],
   "source": [
    "# train test split\n",
    "X_train, X_test, y_train, y_test = train_test_split(X, y, test_size=0.33, random_state=42)\n"
   ]
  },
  {
   "cell_type": "code",
   "execution_count": 188,
   "metadata": {},
   "outputs": [],
   "source": [
    "# criar objeto RandomOverSampler\n",
    "oversampler = RandomOverSampler(random_state=42)\n",
    "\n",
    "# realizar o upsampling na base de treino\n",
    "X_train, y_train = oversampler.fit_resample( X_train, y_train )"
   ]
  },
  {
   "cell_type": "markdown",
   "metadata": {},
   "source": [
    "### Boruta as Feature Selector"
   ]
  },
  {
   "cell_type": "code",
   "execution_count": 189,
   "metadata": {},
   "outputs": [
    {
     "name": "stdout",
     "output_type": "stream",
     "text": [
      "Iteration: \t1 / 100\n",
      "Confirmed: \t0\n",
      "Tentative: \t14\n",
      "Rejected: \t0\n",
      "Iteration: \t2 / 100\n",
      "Confirmed: \t0\n",
      "Tentative: \t14\n",
      "Rejected: \t0\n",
      "Iteration: \t3 / 100\n",
      "Confirmed: \t0\n",
      "Tentative: \t14\n",
      "Rejected: \t0\n",
      "Iteration: \t4 / 100\n",
      "Confirmed: \t0\n",
      "Tentative: \t14\n",
      "Rejected: \t0\n",
      "Iteration: \t5 / 100\n",
      "Confirmed: \t0\n",
      "Tentative: \t14\n",
      "Rejected: \t0\n",
      "Iteration: \t6 / 100\n",
      "Confirmed: \t0\n",
      "Tentative: \t14\n",
      "Rejected: \t0\n",
      "Iteration: \t7 / 100\n",
      "Confirmed: \t0\n",
      "Tentative: \t14\n",
      "Rejected: \t0\n",
      "Iteration: \t8 / 100\n",
      "Confirmed: \t6\n",
      "Tentative: \t1\n",
      "Rejected: \t7\n",
      "Iteration: \t9 / 100\n",
      "Confirmed: \t6\n",
      "Tentative: \t1\n",
      "Rejected: \t7\n",
      "Iteration: \t10 / 100\n",
      "Confirmed: \t6\n",
      "Tentative: \t1\n",
      "Rejected: \t7\n",
      "Iteration: \t11 / 100\n",
      "Confirmed: \t6\n",
      "Tentative: \t1\n",
      "Rejected: \t7\n",
      "Iteration: \t12 / 100\n",
      "Confirmed: \t6\n",
      "Tentative: \t0\n",
      "Rejected: \t8\n",
      "\n",
      "\n",
      "BorutaPy finished running.\n",
      "\n",
      "Iteration: \t13 / 100\n",
      "Confirmed: \t6\n",
      "Tentative: \t0\n",
      "Rejected: \t8\n"
     ]
    }
   ],
   "source": [
    "#define RandomForestRegressor\n",
    "clf = RandomForestClassifier(n_estimators=1000, n_jobs=-1)\n",
    "\n",
    "# define Boruta\n",
    "boruta = BorutaPy(clf, n_estimators='auto',verbose=2,random_state=0).fit(X_train.values, y_train.values)"
   ]
  },
  {
   "cell_type": "markdown",
   "metadata": {},
   "source": [
    "## Best Features from Boruta"
   ]
  },
  {
   "cell_type": "code",
   "execution_count": 190,
   "metadata": {},
   "outputs": [],
   "source": [
    "cols_selected_boruta = boruta.support_.tolist()\n",
    "cols_selected_boruta = X_train.iloc[:,cols_selected_boruta].columns.tolist()"
   ]
  },
  {
   "cell_type": "markdown",
   "metadata": {},
   "source": [
    "## Manual Features"
   ]
  },
  {
   "cell_type": "code",
   "execution_count": 191,
   "metadata": {},
   "outputs": [
    {
     "data": {
      "text/plain": [
       "['id',\n",
       " 'hotel_rating',\n",
       " 'month_booking',\n",
       " 'nationality',\n",
       " 'parking_Reservation',\n",
       " 'reservation_Observations']"
      ]
     },
     "execution_count": 191,
     "metadata": {},
     "output_type": "execute_result"
    }
   ],
   "source": [
    "cols_selected_boruta\n"
   ]
  },
  {
   "cell_type": "code",
   "execution_count": 192,
   "metadata": {},
   "outputs": [],
   "source": [
    "# cols_selected_boruta = ['id',\n",
    "#                        'classificacao_do_hotel',\n",
    "#                        'meses_da_reserva_ate_o_check_in',\n",
    "#                        'nacionalidade',\n",
    "#                        'reserva_com_estacionamento',\n",
    "#                        'reserva_com_observacoes']\n"
   ]
  },
  {
   "cell_type": "markdown",
   "metadata": {},
   "source": [
    "#  Machine Learning Model"
   ]
  },
  {
   "cell_type": "code",
   "execution_count": 193,
   "metadata": {},
   "outputs": [],
   "source": [
    "# x_train = X_train[cols_selected_boruta]\n",
    "# x_test  = X_test[cols_selected_boruta]\n",
    "\n",
    "x_train = X_train.copy()\n",
    "x_test = X_test.copy()\n"
   ]
  },
  {
   "cell_type": "markdown",
   "metadata": {},
   "source": [
    "### KNN"
   ]
  },
  {
   "cell_type": "code",
   "execution_count": 194,
   "metadata": {},
   "outputs": [
    {
     "name": "stdout",
     "output_type": "stream",
     "text": [
      "K = 4\n",
      "F-Score = 85.46%\n"
     ]
    }
   ],
   "source": [
    "# model definition\n",
    "result_list = []\n",
    "\n",
    "# Choose k number\n",
    "for k in range(3, 15):\n",
    "\n",
    "    knn_model = KNeighborsClassifier(n_neighbors=k)\n",
    "\n",
    "    # model training\n",
    "    knn_model.fit(x_train, y_train)\n",
    "\n",
    "    # model classifier\n",
    "    y_pred = knn_model.predict(x_test)\n",
    "\n",
    "    # performance\n",
    "    f_score_knn = f1_score(y_test, y_pred, average='macro')\n",
    "\n",
    "    result_list.append({\"k\": k, \"f_score\": f_score_knn})\n",
    "\n",
    "# K with highest score\n",
    "k = max(result_list, key=lambda x: x['f_score'])['k']\n",
    "f_score_knn = max(result_list, key=lambda x: x['f_score'])['f_score']\n",
    "print(f\"K = {k}\\nF-Score = {f_score_knn:.2%}\")\n"
   ]
  },
  {
   "cell_type": "markdown",
   "metadata": {},
   "source": [
    "### 6.1. XGBoost"
   ]
  },
  {
   "cell_type": "code",
   "execution_count": 195,
   "metadata": {},
   "outputs": [],
   "source": [
    "# model definition\n",
    "xgb_model = GradientBoostingClassifier(\n",
    "    n_estimators=1500, max_depth=10, subsample=0.8)\n",
    "\n",
    "# model training\n",
    "xgb_model.fit(x_train, y_train)\n",
    "\n",
    "# model classifier\n",
    "y_pred_xgb = xgb_model.predict(x_test)\n"
   ]
  },
  {
   "cell_type": "markdown",
   "metadata": {},
   "source": [
    "### Xgboost Performae "
   ]
  },
  {
   "cell_type": "code",
   "execution_count": 196,
   "metadata": {},
   "outputs": [
    {
     "name": "stdout",
     "output_type": "stream",
     "text": [
      "F-score XGBoost: 96.91%\n"
     ]
    }
   ],
   "source": [
    "# performance\n",
    "f_score_xgb = f1_score( y_test, y_pred_xgb, average= 'macro')\n",
    "\n",
    "print( f'F-score XGBoost: {f_score_xgb:.2%}' )"
   ]
  },
  {
   "cell_type": "markdown",
   "metadata": {},
   "source": [
    "## Categorical Boost (Cat Boost)"
   ]
  },
  {
   "cell_type": "code",
   "execution_count": 197,
   "metadata": {},
   "outputs": [],
   "source": [
    "# model definition\n",
    "cat_model = CatBoostClassifier(iterations=1000, learning_rate=0.2)\n",
    "\n",
    "# model training\n",
    "cat_model.fit(x_train, y_train, verbose=False)\n",
    "\n",
    "\n",
    "# model classifier\n",
    "y_pred_cat = cat_model.predict(x_test)\n"
   ]
  },
  {
   "cell_type": "code",
   "execution_count": 198,
   "metadata": {},
   "outputs": [
    {
     "name": "stdout",
     "output_type": "stream",
     "text": [
      "F-score CatBoost: 96.52%\n"
     ]
    }
   ],
   "source": [
    "# performance\n",
    "f_score_cat = f1_score( y_test, y_pred_cat, average= 'macro')\n",
    "\n",
    "print( f'F-score CatBoost: {f_score_cat:.2%}' )"
   ]
  },
  {
   "cell_type": "markdown",
   "metadata": {},
   "source": [
    "### 6.2. Logistic Regression"
   ]
  },
  {
   "cell_type": "code",
   "execution_count": 199,
   "metadata": {},
   "outputs": [],
   "source": [
    "# model definition\n",
    "lr_model = LogisticRegression()\n",
    "\n",
    "# model training\n",
    "lr_model.fit(x_train, y_train)\n",
    "\n",
    "# model classifier\n",
    "y_pred_lr = lr_model.predict(x_test)\n"
   ]
  },
  {
   "cell_type": "code",
   "execution_count": 200,
   "metadata": {},
   "outputs": [
    {
     "name": "stdout",
     "output_type": "stream",
     "text": [
      "F-score knn: 72.82%\n"
     ]
    }
   ],
   "source": [
    "# performance\n",
    "f_score_lr = f1_score( y_test, y_pred_lr, average= 'macro')\n",
    "print( f'F-score knn: {f_score_lr:.2%}' )"
   ]
  },
  {
   "cell_type": "code",
   "execution_count": 201,
   "metadata": {},
   "outputs": [],
   "source": [
    "# Naive Bayes"
   ]
  },
  {
   "cell_type": "code",
   "execution_count": 202,
   "metadata": {},
   "outputs": [],
   "source": [
    "# model definition\n",
    "nb_model = BernoulliNB()\n",
    "\n",
    "# model training\n",
    "nb_model.fit(x_train, y_train)\n",
    "\n",
    "# model classifier\n",
    "y_pred_nb = nb_model.predict(x_test)\n"
   ]
  },
  {
   "cell_type": "code",
   "execution_count": 203,
   "metadata": {},
   "outputs": [
    {
     "name": "stdout",
     "output_type": "stream",
     "text": [
      "F-score Naive Bayes: 48.12%\n"
     ]
    }
   ],
   "source": [
    "# performance\n",
    "f_score_nb = f1_score( y_test, y_pred_nb, average= 'macro')\n",
    "\n",
    "print( f'F-score Naive Bayes: {f_score_nb:.2%}' )"
   ]
  },
  {
   "cell_type": "markdown",
   "metadata": {},
   "source": [
    "## Decision Tree"
   ]
  },
  {
   "cell_type": "code",
   "execution_count": 204,
   "metadata": {},
   "outputs": [],
   "source": [
    "# Crie uma instância do classificador de árvore de decisão\n",
    "clf = tree.DecisionTreeClassifier()\n",
    "\n",
    "# Treine o classificador usando os dados de treinamento\n",
    "clf.fit(x_train, y_train)\n",
    "\n",
    "# Faça previsões usando o conjunto de teste\n",
    "y_pred_clf = clf.predict(x_test)\n"
   ]
  },
  {
   "cell_type": "code",
   "execution_count": 205,
   "metadata": {},
   "outputs": [
    {
     "name": "stdout",
     "output_type": "stream",
     "text": [
      "F-score Decision Tree: 96.14%\n"
     ]
    }
   ],
   "source": [
    "# performance\n",
    "f_score_clf = f1_score( y_test, y_pred_clf, average= 'macro')\n",
    "\n",
    "print( f'F-score Decision Tree: {f_score_clf:.2%}' )"
   ]
  },
  {
   "cell_type": "markdown",
   "metadata": {},
   "source": [
    "# XGBoost Hyperparameter Fine Tuning\n"
   ]
  },
  {
   "cell_type": "code",
   "execution_count": 206,
   "metadata": {},
   "outputs": [
    {
     "name": "stdout",
     "output_type": "stream",
     "text": [
      "Start: 04-04-2023 22:27:56\n"
     ]
    }
   ],
   "source": [
    "t_start = time.time()\n",
    "print('Start:',datetime.datetime.now().strftime('%d-%m-%Y %H:%M:%S'))"
   ]
  },
  {
   "cell_type": "code",
   "execution_count": 208,
   "metadata": {},
   "outputs": [
    {
     "name": "stderr",
     "output_type": "stream",
     "text": [
      "/Users/hallanmiranda/.pyenv/versions/3.10.6/lib/python3.10/site-packages/sklearn/ensemble/_gb.py:437: DataConversionWarning: A column-vector y was passed when a 1d array was expected. Please change the shape of y to (n_samples, ), for example using ravel().\n",
      "  y = column_or_1d(y, warn=True)\n",
      "/Users/hallanmiranda/.pyenv/versions/3.10.6/lib/python3.10/site-packages/sklearn/ensemble/_gb.py:437: DataConversionWarning: A column-vector y was passed when a 1d array was expected. Please change the shape of y to (n_samples, ), for example using ravel().\n",
      "  y = column_or_1d(y, warn=True)\n",
      "/Users/hallanmiranda/.pyenv/versions/3.10.6/lib/python3.10/site-packages/sklearn/ensemble/_gb.py:437: DataConversionWarning: A column-vector y was passed when a 1d array was expected. Please change the shape of y to (n_samples, ), for example using ravel().\n",
      "  y = column_or_1d(y, warn=True)\n",
      "/Users/hallanmiranda/.pyenv/versions/3.10.6/lib/python3.10/site-packages/sklearn/ensemble/_gb.py:437: DataConversionWarning: A column-vector y was passed when a 1d array was expected. Please change the shape of y to (n_samples, ), for example using ravel().\n",
      "  y = column_or_1d(y, warn=True)\n",
      "/Users/hallanmiranda/.pyenv/versions/3.10.6/lib/python3.10/site-packages/sklearn/ensemble/_gb.py:437: DataConversionWarning: A column-vector y was passed when a 1d array was expected. Please change the shape of y to (n_samples, ), for example using ravel().\n",
      "  y = column_or_1d(y, warn=True)\n",
      "/Users/hallanmiranda/.pyenv/versions/3.10.6/lib/python3.10/site-packages/sklearn/ensemble/_gb.py:437: DataConversionWarning: A column-vector y was passed when a 1d array was expected. Please change the shape of y to (n_samples, ), for example using ravel().\n",
      "  y = column_or_1d(y, warn=True)\n",
      "/Users/hallanmiranda/.pyenv/versions/3.10.6/lib/python3.10/site-packages/sklearn/ensemble/_gb.py:437: DataConversionWarning: A column-vector y was passed when a 1d array was expected. Please change the shape of y to (n_samples, ), for example using ravel().\n",
      "  y = column_or_1d(y, warn=True)\n",
      "/Users/hallanmiranda/.pyenv/versions/3.10.6/lib/python3.10/site-packages/sklearn/ensemble/_gb.py:437: DataConversionWarning: A column-vector y was passed when a 1d array was expected. Please change the shape of y to (n_samples, ), for example using ravel().\n",
      "  y = column_or_1d(y, warn=True)\n",
      "/Users/hallanmiranda/.pyenv/versions/3.10.6/lib/python3.10/site-packages/sklearn/ensemble/_gb.py:437: DataConversionWarning: A column-vector y was passed when a 1d array was expected. Please change the shape of y to (n_samples, ), for example using ravel().\n",
      "  y = column_or_1d(y, warn=True)\n",
      "/Users/hallanmiranda/.pyenv/versions/3.10.6/lib/python3.10/site-packages/sklearn/ensemble/_gb.py:437: DataConversionWarning: A column-vector y was passed when a 1d array was expected. Please change the shape of y to (n_samples, ), for example using ravel().\n",
      "  y = column_or_1d(y, warn=True)\n",
      "/Users/hallanmiranda/.pyenv/versions/3.10.6/lib/python3.10/site-packages/sklearn/ensemble/_gb.py:437: DataConversionWarning: A column-vector y was passed when a 1d array was expected. Please change the shape of y to (n_samples, ), for example using ravel().\n",
      "  y = column_or_1d(y, warn=True)\n",
      "/Users/hallanmiranda/.pyenv/versions/3.10.6/lib/python3.10/site-packages/sklearn/ensemble/_gb.py:437: DataConversionWarning: A column-vector y was passed when a 1d array was expected. Please change the shape of y to (n_samples, ), for example using ravel().\n",
      "  y = column_or_1d(y, warn=True)\n",
      "/Users/hallanmiranda/.pyenv/versions/3.10.6/lib/python3.10/site-packages/sklearn/ensemble/_gb.py:437: DataConversionWarning: A column-vector y was passed when a 1d array was expected. Please change the shape of y to (n_samples, ), for example using ravel().\n",
      "  y = column_or_1d(y, warn=True)\n",
      "/Users/hallanmiranda/.pyenv/versions/3.10.6/lib/python3.10/site-packages/sklearn/ensemble/_gb.py:437: DataConversionWarning: A column-vector y was passed when a 1d array was expected. Please change the shape of y to (n_samples, ), for example using ravel().\n",
      "  y = column_or_1d(y, warn=True)\n",
      "/Users/hallanmiranda/.pyenv/versions/3.10.6/lib/python3.10/site-packages/sklearn/ensemble/_gb.py:437: DataConversionWarning: A column-vector y was passed when a 1d array was expected. Please change the shape of y to (n_samples, ), for example using ravel().\n",
      "  y = column_or_1d(y, warn=True)\n",
      "/Users/hallanmiranda/.pyenv/versions/3.10.6/lib/python3.10/site-packages/sklearn/ensemble/_gb.py:437: DataConversionWarning: A column-vector y was passed when a 1d array was expected. Please change the shape of y to (n_samples, ), for example using ravel().\n",
      "  y = column_or_1d(y, warn=True)\n",
      "/Users/hallanmiranda/.pyenv/versions/3.10.6/lib/python3.10/site-packages/sklearn/ensemble/_gb.py:437: DataConversionWarning: A column-vector y was passed when a 1d array was expected. Please change the shape of y to (n_samples, ), for example using ravel().\n",
      "  y = column_or_1d(y, warn=True)\n",
      "/Users/hallanmiranda/.pyenv/versions/3.10.6/lib/python3.10/site-packages/sklearn/ensemble/_gb.py:437: DataConversionWarning: A column-vector y was passed when a 1d array was expected. Please change the shape of y to (n_samples, ), for example using ravel().\n",
      "  y = column_or_1d(y, warn=True)\n",
      "/Users/hallanmiranda/.pyenv/versions/3.10.6/lib/python3.10/site-packages/sklearn/ensemble/_gb.py:437: DataConversionWarning: A column-vector y was passed when a 1d array was expected. Please change the shape of y to (n_samples, ), for example using ravel().\n",
      "  y = column_or_1d(y, warn=True)\n",
      "/Users/hallanmiranda/.pyenv/versions/3.10.6/lib/python3.10/site-packages/sklearn/ensemble/_gb.py:437: DataConversionWarning: A column-vector y was passed when a 1d array was expected. Please change the shape of y to (n_samples, ), for example using ravel().\n",
      "  y = column_or_1d(y, warn=True)\n",
      "/Users/hallanmiranda/.pyenv/versions/3.10.6/lib/python3.10/site-packages/sklearn/ensemble/_gb.py:437: DataConversionWarning: A column-vector y was passed when a 1d array was expected. Please change the shape of y to (n_samples, ), for example using ravel().\n",
      "  y = column_or_1d(y, warn=True)\n",
      "/Users/hallanmiranda/.pyenv/versions/3.10.6/lib/python3.10/site-packages/sklearn/ensemble/_gb.py:437: DataConversionWarning: A column-vector y was passed when a 1d array was expected. Please change the shape of y to (n_samples, ), for example using ravel().\n",
      "  y = column_or_1d(y, warn=True)\n",
      "/Users/hallanmiranda/.pyenv/versions/3.10.6/lib/python3.10/site-packages/sklearn/ensemble/_gb.py:437: DataConversionWarning: A column-vector y was passed when a 1d array was expected. Please change the shape of y to (n_samples, ), for example using ravel().\n",
      "  y = column_or_1d(y, warn=True)\n",
      "/Users/hallanmiranda/.pyenv/versions/3.10.6/lib/python3.10/site-packages/sklearn/ensemble/_gb.py:437: DataConversionWarning: A column-vector y was passed when a 1d array was expected. Please change the shape of y to (n_samples, ), for example using ravel().\n",
      "  y = column_or_1d(y, warn=True)\n",
      "/Users/hallanmiranda/.pyenv/versions/3.10.6/lib/python3.10/site-packages/sklearn/ensemble/_gb.py:437: DataConversionWarning: A column-vector y was passed when a 1d array was expected. Please change the shape of y to (n_samples, ), for example using ravel().\n",
      "  y = column_or_1d(y, warn=True)\n",
      "/Users/hallanmiranda/.pyenv/versions/3.10.6/lib/python3.10/site-packages/sklearn/ensemble/_gb.py:437: DataConversionWarning: A column-vector y was passed when a 1d array was expected. Please change the shape of y to (n_samples, ), for example using ravel().\n",
      "  y = column_or_1d(y, warn=True)\n",
      "/Users/hallanmiranda/.pyenv/versions/3.10.6/lib/python3.10/site-packages/sklearn/ensemble/_gb.py:437: DataConversionWarning: A column-vector y was passed when a 1d array was expected. Please change the shape of y to (n_samples, ), for example using ravel().\n",
      "  y = column_or_1d(y, warn=True)\n",
      "/Users/hallanmiranda/.pyenv/versions/3.10.6/lib/python3.10/site-packages/sklearn/ensemble/_gb.py:437: DataConversionWarning: A column-vector y was passed when a 1d array was expected. Please change the shape of y to (n_samples, ), for example using ravel().\n",
      "  y = column_or_1d(y, warn=True)\n",
      "/Users/hallanmiranda/.pyenv/versions/3.10.6/lib/python3.10/site-packages/sklearn/ensemble/_gb.py:437: DataConversionWarning: A column-vector y was passed when a 1d array was expected. Please change the shape of y to (n_samples, ), for example using ravel().\n",
      "  y = column_or_1d(y, warn=True)\n",
      "/Users/hallanmiranda/.pyenv/versions/3.10.6/lib/python3.10/site-packages/sklearn/ensemble/_gb.py:437: DataConversionWarning: A column-vector y was passed when a 1d array was expected. Please change the shape of y to (n_samples, ), for example using ravel().\n",
      "  y = column_or_1d(y, warn=True)\n",
      "/Users/hallanmiranda/.pyenv/versions/3.10.6/lib/python3.10/site-packages/sklearn/ensemble/_gb.py:437: DataConversionWarning: A column-vector y was passed when a 1d array was expected. Please change the shape of y to (n_samples, ), for example using ravel().\n",
      "  y = column_or_1d(y, warn=True)\n",
      "/Users/hallanmiranda/.pyenv/versions/3.10.6/lib/python3.10/site-packages/sklearn/ensemble/_gb.py:437: DataConversionWarning: A column-vector y was passed when a 1d array was expected. Please change the shape of y to (n_samples, ), for example using ravel().\n",
      "  y = column_or_1d(y, warn=True)\n",
      "/Users/hallanmiranda/.pyenv/versions/3.10.6/lib/python3.10/site-packages/sklearn/ensemble/_gb.py:437: DataConversionWarning: A column-vector y was passed when a 1d array was expected. Please change the shape of y to (n_samples, ), for example using ravel().\n",
      "  y = column_or_1d(y, warn=True)\n",
      "/Users/hallanmiranda/.pyenv/versions/3.10.6/lib/python3.10/site-packages/sklearn/ensemble/_gb.py:437: DataConversionWarning: A column-vector y was passed when a 1d array was expected. Please change the shape of y to (n_samples, ), for example using ravel().\n",
      "  y = column_or_1d(y, warn=True)\n",
      "/Users/hallanmiranda/.pyenv/versions/3.10.6/lib/python3.10/site-packages/sklearn/ensemble/_gb.py:437: DataConversionWarning: A column-vector y was passed when a 1d array was expected. Please change the shape of y to (n_samples, ), for example using ravel().\n",
      "  y = column_or_1d(y, warn=True)\n",
      "/Users/hallanmiranda/.pyenv/versions/3.10.6/lib/python3.10/site-packages/sklearn/ensemble/_gb.py:437: DataConversionWarning: A column-vector y was passed when a 1d array was expected. Please change the shape of y to (n_samples, ), for example using ravel().\n",
      "  y = column_or_1d(y, warn=True)\n",
      "/Users/hallanmiranda/.pyenv/versions/3.10.6/lib/python3.10/site-packages/sklearn/ensemble/_gb.py:437: DataConversionWarning: A column-vector y was passed when a 1d array was expected. Please change the shape of y to (n_samples, ), for example using ravel().\n",
      "  y = column_or_1d(y, warn=True)\n",
      "/Users/hallanmiranda/.pyenv/versions/3.10.6/lib/python3.10/site-packages/sklearn/ensemble/_gb.py:437: DataConversionWarning: A column-vector y was passed when a 1d array was expected. Please change the shape of y to (n_samples, ), for example using ravel().\n",
      "  y = column_or_1d(y, warn=True)\n",
      "/Users/hallanmiranda/.pyenv/versions/3.10.6/lib/python3.10/site-packages/sklearn/ensemble/_gb.py:437: DataConversionWarning: A column-vector y was passed when a 1d array was expected. Please change the shape of y to (n_samples, ), for example using ravel().\n",
      "  y = column_or_1d(y, warn=True)\n",
      "/Users/hallanmiranda/.pyenv/versions/3.10.6/lib/python3.10/site-packages/sklearn/ensemble/_gb.py:437: DataConversionWarning: A column-vector y was passed when a 1d array was expected. Please change the shape of y to (n_samples, ), for example using ravel().\n",
      "  y = column_or_1d(y, warn=True)\n",
      "/Users/hallanmiranda/.pyenv/versions/3.10.6/lib/python3.10/site-packages/sklearn/ensemble/_gb.py:437: DataConversionWarning: A column-vector y was passed when a 1d array was expected. Please change the shape of y to (n_samples, ), for example using ravel().\n",
      "  y = column_or_1d(y, warn=True)\n",
      "/Users/hallanmiranda/.pyenv/versions/3.10.6/lib/python3.10/site-packages/sklearn/ensemble/_gb.py:437: DataConversionWarning: A column-vector y was passed when a 1d array was expected. Please change the shape of y to (n_samples, ), for example using ravel().\n",
      "  y = column_or_1d(y, warn=True)\n",
      "/Users/hallanmiranda/.pyenv/versions/3.10.6/lib/python3.10/site-packages/sklearn/ensemble/_gb.py:437: DataConversionWarning: A column-vector y was passed when a 1d array was expected. Please change the shape of y to (n_samples, ), for example using ravel().\n",
      "  y = column_or_1d(y, warn=True)\n",
      "/Users/hallanmiranda/.pyenv/versions/3.10.6/lib/python3.10/site-packages/sklearn/ensemble/_gb.py:437: DataConversionWarning: A column-vector y was passed when a 1d array was expected. Please change the shape of y to (n_samples, ), for example using ravel().\n",
      "  y = column_or_1d(y, warn=True)\n",
      "/Users/hallanmiranda/.pyenv/versions/3.10.6/lib/python3.10/site-packages/sklearn/ensemble/_gb.py:437: DataConversionWarning: A column-vector y was passed when a 1d array was expected. Please change the shape of y to (n_samples, ), for example using ravel().\n",
      "  y = column_or_1d(y, warn=True)\n",
      "/Users/hallanmiranda/.pyenv/versions/3.10.6/lib/python3.10/site-packages/sklearn/ensemble/_gb.py:437: DataConversionWarning: A column-vector y was passed when a 1d array was expected. Please change the shape of y to (n_samples, ), for example using ravel().\n",
      "  y = column_or_1d(y, warn=True)\n",
      "/Users/hallanmiranda/.pyenv/versions/3.10.6/lib/python3.10/site-packages/sklearn/ensemble/_gb.py:437: DataConversionWarning: A column-vector y was passed when a 1d array was expected. Please change the shape of y to (n_samples, ), for example using ravel().\n",
      "  y = column_or_1d(y, warn=True)\n",
      "/Users/hallanmiranda/.pyenv/versions/3.10.6/lib/python3.10/site-packages/sklearn/ensemble/_gb.py:437: DataConversionWarning: A column-vector y was passed when a 1d array was expected. Please change the shape of y to (n_samples, ), for example using ravel().\n",
      "  y = column_or_1d(y, warn=True)\n",
      "/Users/hallanmiranda/.pyenv/versions/3.10.6/lib/python3.10/site-packages/sklearn/ensemble/_gb.py:437: DataConversionWarning: A column-vector y was passed when a 1d array was expected. Please change the shape of y to (n_samples, ), for example using ravel().\n",
      "  y = column_or_1d(y, warn=True)\n",
      "/Users/hallanmiranda/.pyenv/versions/3.10.6/lib/python3.10/site-packages/sklearn/ensemble/_gb.py:437: DataConversionWarning: A column-vector y was passed when a 1d array was expected. Please change the shape of y to (n_samples, ), for example using ravel().\n",
      "  y = column_or_1d(y, warn=True)\n",
      "/Users/hallanmiranda/.pyenv/versions/3.10.6/lib/python3.10/site-packages/sklearn/ensemble/_gb.py:437: DataConversionWarning: A column-vector y was passed when a 1d array was expected. Please change the shape of y to (n_samples, ), for example using ravel().\n",
      "  y = column_or_1d(y, warn=True)\n",
      "/Users/hallanmiranda/.pyenv/versions/3.10.6/lib/python3.10/site-packages/sklearn/ensemble/_gb.py:437: DataConversionWarning: A column-vector y was passed when a 1d array was expected. Please change the shape of y to (n_samples, ), for example using ravel().\n",
      "  y = column_or_1d(y, warn=True)\n",
      "/Users/hallanmiranda/.pyenv/versions/3.10.6/lib/python3.10/site-packages/sklearn/ensemble/_gb.py:437: DataConversionWarning: A column-vector y was passed when a 1d array was expected. Please change the shape of y to (n_samples, ), for example using ravel().\n",
      "  y = column_or_1d(y, warn=True)\n",
      "/Users/hallanmiranda/.pyenv/versions/3.10.6/lib/python3.10/site-packages/sklearn/ensemble/_gb.py:437: DataConversionWarning: A column-vector y was passed when a 1d array was expected. Please change the shape of y to (n_samples, ), for example using ravel().\n",
      "  y = column_or_1d(y, warn=True)\n",
      "/Users/hallanmiranda/.pyenv/versions/3.10.6/lib/python3.10/site-packages/sklearn/ensemble/_gb.py:437: DataConversionWarning: A column-vector y was passed when a 1d array was expected. Please change the shape of y to (n_samples, ), for example using ravel().\n",
      "  y = column_or_1d(y, warn=True)\n",
      "/Users/hallanmiranda/.pyenv/versions/3.10.6/lib/python3.10/site-packages/sklearn/ensemble/_gb.py:437: DataConversionWarning: A column-vector y was passed when a 1d array was expected. Please change the shape of y to (n_samples, ), for example using ravel().\n",
      "  y = column_or_1d(y, warn=True)\n",
      "/Users/hallanmiranda/.pyenv/versions/3.10.6/lib/python3.10/site-packages/sklearn/ensemble/_gb.py:437: DataConversionWarning: A column-vector y was passed when a 1d array was expected. Please change the shape of y to (n_samples, ), for example using ravel().\n",
      "  y = column_or_1d(y, warn=True)\n",
      "/Users/hallanmiranda/.pyenv/versions/3.10.6/lib/python3.10/site-packages/sklearn/ensemble/_gb.py:437: DataConversionWarning: A column-vector y was passed when a 1d array was expected. Please change the shape of y to (n_samples, ), for example using ravel().\n",
      "  y = column_or_1d(y, warn=True)\n",
      "/Users/hallanmiranda/.pyenv/versions/3.10.6/lib/python3.10/site-packages/sklearn/ensemble/_gb.py:437: DataConversionWarning: A column-vector y was passed when a 1d array was expected. Please change the shape of y to (n_samples, ), for example using ravel().\n",
      "  y = column_or_1d(y, warn=True)\n",
      "/Users/hallanmiranda/.pyenv/versions/3.10.6/lib/python3.10/site-packages/sklearn/ensemble/_gb.py:437: DataConversionWarning: A column-vector y was passed when a 1d array was expected. Please change the shape of y to (n_samples, ), for example using ravel().\n",
      "  y = column_or_1d(y, warn=True)\n",
      "/Users/hallanmiranda/.pyenv/versions/3.10.6/lib/python3.10/site-packages/sklearn/ensemble/_gb.py:437: DataConversionWarning: A column-vector y was passed when a 1d array was expected. Please change the shape of y to (n_samples, ), for example using ravel().\n",
      "  y = column_or_1d(y, warn=True)\n",
      "/Users/hallanmiranda/.pyenv/versions/3.10.6/lib/python3.10/site-packages/sklearn/ensemble/_gb.py:437: DataConversionWarning: A column-vector y was passed when a 1d array was expected. Please change the shape of y to (n_samples, ), for example using ravel().\n",
      "  y = column_or_1d(y, warn=True)\n",
      "/Users/hallanmiranda/.pyenv/versions/3.10.6/lib/python3.10/site-packages/sklearn/ensemble/_gb.py:437: DataConversionWarning: A column-vector y was passed when a 1d array was expected. Please change the shape of y to (n_samples, ), for example using ravel().\n",
      "  y = column_or_1d(y, warn=True)\n",
      "/Users/hallanmiranda/.pyenv/versions/3.10.6/lib/python3.10/site-packages/sklearn/ensemble/_gb.py:437: DataConversionWarning: A column-vector y was passed when a 1d array was expected. Please change the shape of y to (n_samples, ), for example using ravel().\n",
      "  y = column_or_1d(y, warn=True)\n",
      "/Users/hallanmiranda/.pyenv/versions/3.10.6/lib/python3.10/site-packages/sklearn/ensemble/_gb.py:437: DataConversionWarning: A column-vector y was passed when a 1d array was expected. Please change the shape of y to (n_samples, ), for example using ravel().\n",
      "  y = column_or_1d(y, warn=True)\n",
      "/Users/hallanmiranda/.pyenv/versions/3.10.6/lib/python3.10/site-packages/sklearn/ensemble/_gb.py:437: DataConversionWarning: A column-vector y was passed when a 1d array was expected. Please change the shape of y to (n_samples, ), for example using ravel().\n",
      "  y = column_or_1d(y, warn=True)\n",
      "/Users/hallanmiranda/.pyenv/versions/3.10.6/lib/python3.10/site-packages/sklearn/ensemble/_gb.py:437: DataConversionWarning: A column-vector y was passed when a 1d array was expected. Please change the shape of y to (n_samples, ), for example using ravel().\n",
      "  y = column_or_1d(y, warn=True)\n",
      "/Users/hallanmiranda/.pyenv/versions/3.10.6/lib/python3.10/site-packages/sklearn/ensemble/_gb.py:437: DataConversionWarning: A column-vector y was passed when a 1d array was expected. Please change the shape of y to (n_samples, ), for example using ravel().\n",
      "  y = column_or_1d(y, warn=True)\n",
      "/Users/hallanmiranda/.pyenv/versions/3.10.6/lib/python3.10/site-packages/sklearn/ensemble/_gb.py:437: DataConversionWarning: A column-vector y was passed when a 1d array was expected. Please change the shape of y to (n_samples, ), for example using ravel().\n",
      "  y = column_or_1d(y, warn=True)\n",
      "/Users/hallanmiranda/.pyenv/versions/3.10.6/lib/python3.10/site-packages/sklearn/ensemble/_gb.py:437: DataConversionWarning: A column-vector y was passed when a 1d array was expected. Please change the shape of y to (n_samples, ), for example using ravel().\n",
      "  y = column_or_1d(y, warn=True)\n",
      "/Users/hallanmiranda/.pyenv/versions/3.10.6/lib/python3.10/site-packages/sklearn/ensemble/_gb.py:437: DataConversionWarning: A column-vector y was passed when a 1d array was expected. Please change the shape of y to (n_samples, ), for example using ravel().\n",
      "  y = column_or_1d(y, warn=True)\n",
      "/Users/hallanmiranda/.pyenv/versions/3.10.6/lib/python3.10/site-packages/sklearn/ensemble/_gb.py:437: DataConversionWarning: A column-vector y was passed when a 1d array was expected. Please change the shape of y to (n_samples, ), for example using ravel().\n",
      "  y = column_or_1d(y, warn=True)\n",
      "/Users/hallanmiranda/.pyenv/versions/3.10.6/lib/python3.10/site-packages/sklearn/ensemble/_gb.py:437: DataConversionWarning: A column-vector y was passed when a 1d array was expected. Please change the shape of y to (n_samples, ), for example using ravel().\n",
      "  y = column_or_1d(y, warn=True)\n",
      "/Users/hallanmiranda/.pyenv/versions/3.10.6/lib/python3.10/site-packages/sklearn/ensemble/_gb.py:437: DataConversionWarning: A column-vector y was passed when a 1d array was expected. Please change the shape of y to (n_samples, ), for example using ravel().\n",
      "  y = column_or_1d(y, warn=True)\n",
      "/Users/hallanmiranda/.pyenv/versions/3.10.6/lib/python3.10/site-packages/sklearn/ensemble/_gb.py:437: DataConversionWarning: A column-vector y was passed when a 1d array was expected. Please change the shape of y to (n_samples, ), for example using ravel().\n",
      "  y = column_or_1d(y, warn=True)\n",
      "/Users/hallanmiranda/.pyenv/versions/3.10.6/lib/python3.10/site-packages/sklearn/ensemble/_gb.py:437: DataConversionWarning: A column-vector y was passed when a 1d array was expected. Please change the shape of y to (n_samples, ), for example using ravel().\n",
      "  y = column_or_1d(y, warn=True)\n",
      "/Users/hallanmiranda/.pyenv/versions/3.10.6/lib/python3.10/site-packages/sklearn/ensemble/_gb.py:437: DataConversionWarning: A column-vector y was passed when a 1d array was expected. Please change the shape of y to (n_samples, ), for example using ravel().\n",
      "  y = column_or_1d(y, warn=True)\n",
      "/Users/hallanmiranda/.pyenv/versions/3.10.6/lib/python3.10/site-packages/sklearn/ensemble/_gb.py:437: DataConversionWarning: A column-vector y was passed when a 1d array was expected. Please change the shape of y to (n_samples, ), for example using ravel().\n",
      "  y = column_or_1d(y, warn=True)\n",
      "/Users/hallanmiranda/.pyenv/versions/3.10.6/lib/python3.10/site-packages/sklearn/ensemble/_gb.py:437: DataConversionWarning: A column-vector y was passed when a 1d array was expected. Please change the shape of y to (n_samples, ), for example using ravel().\n",
      "  y = column_or_1d(y, warn=True)\n",
      "/Users/hallanmiranda/.pyenv/versions/3.10.6/lib/python3.10/site-packages/sklearn/ensemble/_gb.py:437: DataConversionWarning: A column-vector y was passed when a 1d array was expected. Please change the shape of y to (n_samples, ), for example using ravel().\n",
      "  y = column_or_1d(y, warn=True)\n",
      "/Users/hallanmiranda/.pyenv/versions/3.10.6/lib/python3.10/site-packages/sklearn/ensemble/_gb.py:437: DataConversionWarning: A column-vector y was passed when a 1d array was expected. Please change the shape of y to (n_samples, ), for example using ravel().\n",
      "  y = column_or_1d(y, warn=True)\n",
      "/Users/hallanmiranda/.pyenv/versions/3.10.6/lib/python3.10/site-packages/sklearn/ensemble/_gb.py:437: DataConversionWarning: A column-vector y was passed when a 1d array was expected. Please change the shape of y to (n_samples, ), for example using ravel().\n",
      "  y = column_or_1d(y, warn=True)\n",
      "/Users/hallanmiranda/.pyenv/versions/3.10.6/lib/python3.10/site-packages/sklearn/ensemble/_gb.py:437: DataConversionWarning: A column-vector y was passed when a 1d array was expected. Please change the shape of y to (n_samples, ), for example using ravel().\n",
      "  y = column_or_1d(y, warn=True)\n",
      "/Users/hallanmiranda/.pyenv/versions/3.10.6/lib/python3.10/site-packages/sklearn/ensemble/_gb.py:437: DataConversionWarning: A column-vector y was passed when a 1d array was expected. Please change the shape of y to (n_samples, ), for example using ravel().\n",
      "  y = column_or_1d(y, warn=True)\n",
      "/Users/hallanmiranda/.pyenv/versions/3.10.6/lib/python3.10/site-packages/sklearn/ensemble/_gb.py:437: DataConversionWarning: A column-vector y was passed when a 1d array was expected. Please change the shape of y to (n_samples, ), for example using ravel().\n",
      "  y = column_or_1d(y, warn=True)\n",
      "/Users/hallanmiranda/.pyenv/versions/3.10.6/lib/python3.10/site-packages/sklearn/ensemble/_gb.py:437: DataConversionWarning: A column-vector y was passed when a 1d array was expected. Please change the shape of y to (n_samples, ), for example using ravel().\n",
      "  y = column_or_1d(y, warn=True)\n",
      "/Users/hallanmiranda/.pyenv/versions/3.10.6/lib/python3.10/site-packages/sklearn/ensemble/_gb.py:437: DataConversionWarning: A column-vector y was passed when a 1d array was expected. Please change the shape of y to (n_samples, ), for example using ravel().\n",
      "  y = column_or_1d(y, warn=True)\n",
      "/Users/hallanmiranda/.pyenv/versions/3.10.6/lib/python3.10/site-packages/sklearn/ensemble/_gb.py:437: DataConversionWarning: A column-vector y was passed when a 1d array was expected. Please change the shape of y to (n_samples, ), for example using ravel().\n",
      "  y = column_or_1d(y, warn=True)\n",
      "/Users/hallanmiranda/.pyenv/versions/3.10.6/lib/python3.10/site-packages/sklearn/ensemble/_gb.py:437: DataConversionWarning: A column-vector y was passed when a 1d array was expected. Please change the shape of y to (n_samples, ), for example using ravel().\n",
      "  y = column_or_1d(y, warn=True)\n",
      "/Users/hallanmiranda/.pyenv/versions/3.10.6/lib/python3.10/site-packages/sklearn/ensemble/_gb.py:437: DataConversionWarning: A column-vector y was passed when a 1d array was expected. Please change the shape of y to (n_samples, ), for example using ravel().\n",
      "  y = column_or_1d(y, warn=True)\n",
      "/Users/hallanmiranda/.pyenv/versions/3.10.6/lib/python3.10/site-packages/sklearn/ensemble/_gb.py:437: DataConversionWarning: A column-vector y was passed when a 1d array was expected. Please change the shape of y to (n_samples, ), for example using ravel().\n",
      "  y = column_or_1d(y, warn=True)\n",
      "/Users/hallanmiranda/.pyenv/versions/3.10.6/lib/python3.10/site-packages/sklearn/ensemble/_gb.py:437: DataConversionWarning: A column-vector y was passed when a 1d array was expected. Please change the shape of y to (n_samples, ), for example using ravel().\n",
      "  y = column_or_1d(y, warn=True)\n",
      "/Users/hallanmiranda/.pyenv/versions/3.10.6/lib/python3.10/site-packages/sklearn/ensemble/_gb.py:437: DataConversionWarning: A column-vector y was passed when a 1d array was expected. Please change the shape of y to (n_samples, ), for example using ravel().\n",
      "  y = column_or_1d(y, warn=True)\n",
      "/Users/hallanmiranda/.pyenv/versions/3.10.6/lib/python3.10/site-packages/sklearn/ensemble/_gb.py:437: DataConversionWarning: A column-vector y was passed when a 1d array was expected. Please change the shape of y to (n_samples, ), for example using ravel().\n",
      "  y = column_or_1d(y, warn=True)\n",
      "/Users/hallanmiranda/.pyenv/versions/3.10.6/lib/python3.10/site-packages/sklearn/ensemble/_gb.py:437: DataConversionWarning: A column-vector y was passed when a 1d array was expected. Please change the shape of y to (n_samples, ), for example using ravel().\n",
      "  y = column_or_1d(y, warn=True)\n",
      "/Users/hallanmiranda/.pyenv/versions/3.10.6/lib/python3.10/site-packages/sklearn/ensemble/_gb.py:437: DataConversionWarning: A column-vector y was passed when a 1d array was expected. Please change the shape of y to (n_samples, ), for example using ravel().\n",
      "  y = column_or_1d(y, warn=True)\n",
      "/Users/hallanmiranda/.pyenv/versions/3.10.6/lib/python3.10/site-packages/sklearn/ensemble/_gb.py:437: DataConversionWarning: A column-vector y was passed when a 1d array was expected. Please change the shape of y to (n_samples, ), for example using ravel().\n",
      "  y = column_or_1d(y, warn=True)\n",
      "/Users/hallanmiranda/.pyenv/versions/3.10.6/lib/python3.10/site-packages/sklearn/ensemble/_gb.py:437: DataConversionWarning: A column-vector y was passed when a 1d array was expected. Please change the shape of y to (n_samples, ), for example using ravel().\n",
      "  y = column_or_1d(y, warn=True)\n",
      "/Users/hallanmiranda/.pyenv/versions/3.10.6/lib/python3.10/site-packages/sklearn/ensemble/_gb.py:437: DataConversionWarning: A column-vector y was passed when a 1d array was expected. Please change the shape of y to (n_samples, ), for example using ravel().\n",
      "  y = column_or_1d(y, warn=True)\n",
      "/Users/hallanmiranda/.pyenv/versions/3.10.6/lib/python3.10/site-packages/sklearn/ensemble/_gb.py:437: DataConversionWarning: A column-vector y was passed when a 1d array was expected. Please change the shape of y to (n_samples, ), for example using ravel().\n",
      "  y = column_or_1d(y, warn=True)\n"
     ]
    },
    {
     "name": "stdout",
     "output_type": "stream",
     "text": [
      "Best hyperparameter: {'subsample': 0.8, 'n_estimators': 1000, 'max_depth': 10, 'learning_rate': 0.1}\n",
      "Best F-score (macro): 97.08%\n"
     ]
    }
   ],
   "source": [
    "param = {'learning_rate': [0.01, 0.05, 0.1],\n",
    "         'max_depth': [3, 4, 5, 10],\n",
    "         'n_estimators': [100, 500, 1000],\n",
    "         'subsample': [0.1, 0.3, 0.8]}\n",
    "# Calculate weights\n",
    "\n",
    "# y array of weights\n",
    "sample_weights = compute_sample_weight(class_weight='balanced', y=y)\n",
    "\n",
    "# dict of weights\n",
    "n_classes = len(np.unique(y))\n",
    "weight_0 = len(y) / (n_classes * y.value_counts()[0])\n",
    "weight_1 = len(y) / (n_classes * y.value_counts()[1])\n",
    "class_weights = {0: weight_0, 1: weight_1}\n",
    "\n",
    "# use RandomizedSearchCV to find the best hyperparameter combination.\n",
    "random_search = RandomizedSearchCV(GradientBoostingClassifier(),\n",
    "                                   param_distributions=param,\n",
    "                                   cv=5,\n",
    "                                   n_iter=20,\n",
    "                                   scoring='f1_macro',\n",
    "                                   random_state=32,\n",
    "                                   n_jobs=-1)\n",
    "random_search.fit(X.values, y.values, sample_weight=sample_weights)\n",
    "\n",
    "# print the best hyperparameter combination and its F-score (macro).\n",
    "print(\"Best hyperparameter:\", random_search.best_params_)\n",
    "print(f\"Best F-score (macro): {random_search.best_score_:.2%}\")\n"
   ]
  },
  {
   "cell_type": "code",
   "execution_count": 209,
   "metadata": {},
   "outputs": [
    {
     "name": "stdout",
     "output_type": "stream",
     "text": [
      "End: 05-04-2023 00:25:25\n",
      "Fine tuning execution time: 01:57:29\n"
     ]
    }
   ],
   "source": [
    "\n",
    "\n",
    "\n",
    "duration = time.time()-t_start\n",
    "h = '{:02d}'.format(int(duration//3600))\n",
    "m = '{:02d}'.format(int((duration % 3600)//60))\n",
    "s = '{:02d}'.format(int(duration % 60))\n",
    "\n",
    "print('End:', datetime.datetime.now().strftime('%d-%m-%Y %H:%M:%S'))\n",
    "print(f'Fine tuning execution time: {h}:{m}:{s}')\n"
   ]
  },
  {
   "cell_type": "markdown",
   "metadata": {},
   "source": [
    "## 6.4. Random Forest"
   ]
  },
  {
   "cell_type": "code",
   "execution_count": 210,
   "metadata": {},
   "outputs": [],
   "source": [
    "# model definition\n",
    "rf_model = RandomForestClassifier(n_estimators=100, n_jobs=-1, random_state=42)\n",
    "\n",
    "# model training\n",
    "rf_model.fit(x_train, y_train)\n",
    "\n",
    "# model classifier\n",
    "y_pred_rf = rf_model.predict(x_test)\n"
   ]
  },
  {
   "cell_type": "code",
   "execution_count": 211,
   "metadata": {},
   "outputs": [
    {
     "name": "stdout",
     "output_type": "stream",
     "text": [
      "F-score Random Forest: 96.76%\n"
     ]
    }
   ],
   "source": [
    "# performance\n",
    "f_score_rf = f1_score( y_test, y_pred_rf, average= 'macro')\n",
    "\n",
    "print( f'F-score Random Forest: {f_score_rf:.2%}' )"
   ]
  },
  {
   "cell_type": "markdown",
   "metadata": {},
   "source": [
    "## Categorical Boost (Cat Boost)"
   ]
  },
  {
   "cell_type": "code",
   "execution_count": 212,
   "metadata": {},
   "outputs": [],
   "source": [
    "# model definition\n",
    "cat_model = CatBoostClassifier(iterations=1000, learning_rate=0.2)\n",
    "\n",
    "# model training\n",
    "cat_model.fit(x_train, y_train, verbose=False)\n",
    "\n",
    "\n",
    "# model classifier\n",
    "y_pred_cat = cat_model.predict(x_test)\n"
   ]
  },
  {
   "cell_type": "markdown",
   "metadata": {},
   "source": [
    "# Final Model"
   ]
  },
  {
   "cell_type": "code",
   "execution_count": 221,
   "metadata": {},
   "outputs": [
    {
     "data": {
      "text/html": [
       "<style>#sk-container-id-1 {color: black;background-color: white;}#sk-container-id-1 pre{padding: 0;}#sk-container-id-1 div.sk-toggleable {background-color: white;}#sk-container-id-1 label.sk-toggleable__label {cursor: pointer;display: block;width: 100%;margin-bottom: 0;padding: 0.3em;box-sizing: border-box;text-align: center;}#sk-container-id-1 label.sk-toggleable__label-arrow:before {content: \"▸\";float: left;margin-right: 0.25em;color: #696969;}#sk-container-id-1 label.sk-toggleable__label-arrow:hover:before {color: black;}#sk-container-id-1 div.sk-estimator:hover label.sk-toggleable__label-arrow:before {color: black;}#sk-container-id-1 div.sk-toggleable__content {max-height: 0;max-width: 0;overflow: hidden;text-align: left;background-color: #f0f8ff;}#sk-container-id-1 div.sk-toggleable__content pre {margin: 0.2em;color: black;border-radius: 0.25em;background-color: #f0f8ff;}#sk-container-id-1 input.sk-toggleable__control:checked~div.sk-toggleable__content {max-height: 200px;max-width: 100%;overflow: auto;}#sk-container-id-1 input.sk-toggleable__control:checked~label.sk-toggleable__label-arrow:before {content: \"▾\";}#sk-container-id-1 div.sk-estimator input.sk-toggleable__control:checked~label.sk-toggleable__label {background-color: #d4ebff;}#sk-container-id-1 div.sk-label input.sk-toggleable__control:checked~label.sk-toggleable__label {background-color: #d4ebff;}#sk-container-id-1 input.sk-hidden--visually {border: 0;clip: rect(1px 1px 1px 1px);clip: rect(1px, 1px, 1px, 1px);height: 1px;margin: -1px;overflow: hidden;padding: 0;position: absolute;width: 1px;}#sk-container-id-1 div.sk-estimator {font-family: monospace;background-color: #f0f8ff;border: 1px dotted black;border-radius: 0.25em;box-sizing: border-box;margin-bottom: 0.5em;}#sk-container-id-1 div.sk-estimator:hover {background-color: #d4ebff;}#sk-container-id-1 div.sk-parallel-item::after {content: \"\";width: 100%;border-bottom: 1px solid gray;flex-grow: 1;}#sk-container-id-1 div.sk-label:hover label.sk-toggleable__label {background-color: #d4ebff;}#sk-container-id-1 div.sk-serial::before {content: \"\";position: absolute;border-left: 1px solid gray;box-sizing: border-box;top: 0;bottom: 0;left: 50%;z-index: 0;}#sk-container-id-1 div.sk-serial {display: flex;flex-direction: column;align-items: center;background-color: white;padding-right: 0.2em;padding-left: 0.2em;position: relative;}#sk-container-id-1 div.sk-item {position: relative;z-index: 1;}#sk-container-id-1 div.sk-parallel {display: flex;align-items: stretch;justify-content: center;background-color: white;position: relative;}#sk-container-id-1 div.sk-item::before, #sk-container-id-1 div.sk-parallel-item::before {content: \"\";position: absolute;border-left: 1px solid gray;box-sizing: border-box;top: 0;bottom: 0;left: 50%;z-index: -1;}#sk-container-id-1 div.sk-parallel-item {display: flex;flex-direction: column;z-index: 1;position: relative;background-color: white;}#sk-container-id-1 div.sk-parallel-item:first-child::after {align-self: flex-end;width: 50%;}#sk-container-id-1 div.sk-parallel-item:last-child::after {align-self: flex-start;width: 50%;}#sk-container-id-1 div.sk-parallel-item:only-child::after {width: 0;}#sk-container-id-1 div.sk-dashed-wrapped {border: 1px dashed gray;margin: 0 0.4em 0.5em 0.4em;box-sizing: border-box;padding-bottom: 0.4em;background-color: white;}#sk-container-id-1 div.sk-label label {font-family: monospace;font-weight: bold;display: inline-block;line-height: 1.2em;}#sk-container-id-1 div.sk-label-container {text-align: center;}#sk-container-id-1 div.sk-container {/* jupyter's `normalize.less` sets `[hidden] { display: none; }` but bootstrap.min.css set `[hidden] { display: none !important; }` so we also need the `!important` here to be able to override the default hidden behavior on the sphinx rendered scikit-learn.org. See: https://github.com/scikit-learn/scikit-learn/issues/21755 */display: inline-block !important;position: relative;}#sk-container-id-1 div.sk-text-repr-fallback {display: none;}</style><div id=\"sk-container-id-1\" class=\"sk-top-container\"><div class=\"sk-text-repr-fallback\"><pre>GradientBoostingClassifier(max_depth=10, n_estimators=1000, random_state=42,\n",
       "                           subsample=0.8)</pre><b>In a Jupyter environment, please rerun this cell to show the HTML representation or trust the notebook. <br />On GitHub, the HTML representation is unable to render, please try loading this page with nbviewer.org.</b></div><div class=\"sk-container\" hidden><div class=\"sk-item\"><div class=\"sk-estimator sk-toggleable\"><input class=\"sk-toggleable__control sk-hidden--visually\" id=\"sk-estimator-id-1\" type=\"checkbox\" checked><label for=\"sk-estimator-id-1\" class=\"sk-toggleable__label sk-toggleable__label-arrow\">GradientBoostingClassifier</label><div class=\"sk-toggleable__content\"><pre>GradientBoostingClassifier(max_depth=10, n_estimators=1000, random_state=42,\n",
       "                           subsample=0.8)</pre></div></div></div></div></div>"
      ],
      "text/plain": [
       "GradientBoostingClassifier(max_depth=10, n_estimators=1000, random_state=42,\n",
       "                           subsample=0.8)"
      ]
     },
     "execution_count": 221,
     "metadata": {},
     "output_type": "execute_result"
    }
   ],
   "source": [
    "import numpy as np\n",
    "import pandas as pd\n",
    "from sklearn.ensemble import GradientBoostingClassifier\n",
    "\n",
    "np.seterr(all='ignore')\n",
    "\n",
    "\n",
    "param = random_search.best_params_\n",
    "\n",
    "# model definition\n",
    "xgb_model = GradientBoostingClassifier(subsample=param['subsample'],\n",
    "                                       n_estimators=param['n_estimators'],\n",
    "                                       max_depth=param['max_depth'],\n",
    "                                       learning_rate=param['learning_rate'],\n",
    "                                       random_state=42)\n",
    "\n",
    "# model training\n",
    "xgb_model.fit(X.values, y.values, sample_weight=sample_weights)\n",
    "xgb_model.fit( x_train, y_train )\n"
   ]
  },
  {
   "cell_type": "markdown",
   "metadata": {},
   "source": [
    "# Predict Kaggle Submission Data"
   ]
  },
  {
   "cell_type": "code",
   "execution_count": 222,
   "metadata": {},
   "outputs": [],
   "source": [
    "df_test = pd.read_csv('dataset/test.csv', low_memory=False)\n",
    "_id = df_test['id']\n"
   ]
  },
  {
   "cell_type": "code",
   "execution_count": 223,
   "metadata": {},
   "outputs": [],
   "source": [
    "dft = df_test.copy()"
   ]
  },
  {
   "cell_type": "markdown",
   "metadata": {},
   "source": [
    "## Rename Columns"
   ]
  },
  {
   "cell_type": "code",
   "execution_count": 224,
   "metadata": {},
   "outputs": [],
   "source": [
    "# Rename \n",
    "dft = df_test.rename(columns={'Classificação do hotel': 'hotel_rating', 'Meses da reserva até o check-in': 'month_booking',\n",
    "                        'Número de pernoites reservadas': 'number_stays_booking', 'Número de hospedes': 'number_guests',\n",
    "                        'Regime de alimentação': 'meal_regime', 'Nacionalidade': 'nationality', 'Forma de Reserva': 'reservation_Form',\n",
    "                        'Já se hospedou anterioremente': 'previously_hosted', 'Tipo do quarto reservado': 'type_booked_room',\n",
    "                        'Reserva feita por agência de turismo': 'tourism_agency_booking', 'Reserva feita por empresa': 'company_booking',\n",
    "                        'Reserva com Estacionamento': 'parking_Reservation', 'Reserva com Observações': 'reservation_Observations', 'Reserva Cancelada': 'booking_canceled'})\n",
    "\n",
    "\n"
   ]
  },
  {
   "cell_type": "markdown",
   "metadata": {},
   "source": [
    "## Fill NA"
   ]
  },
  {
   "cell_type": "code",
   "execution_count": 225,
   "metadata": {},
   "outputs": [],
   "source": [
    "dft['nationality'] = dft['nationality'].apply(\n",
    "    lambda x: 'nao_identificado' if pd.isnull(x) else x)\n",
    "dft['number_guests'] = dft['number_guests'].apply(\n",
    "    lambda x: 1 if pd.isnull(x) else x)\n",
    "dft['number_guests'] = dft['number_guests'].astype('int64')\n"
   ]
  },
  {
   "cell_type": "markdown",
   "metadata": {},
   "source": [
    "## Change type"
   ]
  },
  {
   "cell_type": "code",
   "execution_count": 226,
   "metadata": {},
   "outputs": [],
   "source": [
    "dft['id'] = dft['id'].astype('int64')\n",
    "dft['number_guests'] = dft['number_guests'].astype('int64')\n"
   ]
  },
  {
   "cell_type": "markdown",
   "metadata": {},
   "source": [
    "## Rescaling"
   ]
  },
  {
   "cell_type": "code",
   "execution_count": 227,
   "metadata": {},
   "outputs": [],
   "source": [
    "rs = RobustScaler()\n",
    "\n",
    "# meses_da_reserva_ate_o_check-in - Robust Scaler\n",
    "dft['id'] = rs.fit_transform( dft[['id']].values )\n",
    "\n",
    "# meses_da_reserva_ate_o_check-in - Robust Scaler\n",
    "dft['month_booking'] = rs.fit_transform(dft[['month_booking']].values)\n",
    "\n",
    "# numero_de_pernoites_reservadas - Robust Scaler\n",
    "dft['number_stays_booking'] = rs.fit_transform( dft[['number_stays_booking']].values )\n",
    "\n",
    "# numero_de_hospedes - Robust Scaler\n",
    "dft['number_guests'] = rs.fit_transform( dft[['number_guests']].values )"
   ]
  },
  {
   "cell_type": "markdown",
   "metadata": {},
   "source": [
    "## Transformation"
   ]
  },
  {
   "cell_type": "code",
   "execution_count": 228,
   "metadata": {},
   "outputs": [],
   "source": [
    " # Label Encoder\n",
    "le = LabelEncoder()\n",
    "label_cols = ['meal_regime', 'nationality', 'reservation_Form',\n",
    "              'type_booked_room', 'reservation_Observations']\n",
    "for col in label_cols:\n",
    "    dft[col] = le.fit_transform(dft[col])\n",
    "\n",
    "# Ordinal Encoding\n",
    "classificacao_dict = {'5 estrelas': 5, '4 estrelas': 4}\n",
    "dft['hotel_rating'] = dft['hotel_rating'].map(classificacao_dict)\n",
    "\n",
    "# Boolean\n",
    "bool_cols = ['previously_hosted', 'tourism_agency_booking',\n",
    "             'company_booking', 'parking_Reservation']\n",
    "for col in bool_cols:\n",
    "    dft[col] = dft[col].apply(\n",
    "        lambda x: 0 if x == 'Não' else 1 if x == 'Sim' else x)\n",
    "\n"
   ]
  },
  {
   "cell_type": "code",
   "execution_count": 229,
   "metadata": {},
   "outputs": [],
   "source": [
    "# transform into int\n",
    "dft['hotel_rating'] = dft['hotel_rating'].astype('int')\n",
    "dft['previously_hosted'] = dft['previously_hosted'].astype('int')\n",
    "dft['tourism_agency_booking'] = dft['tourism_agency_booking'].astype('int')\n",
    "dft['company_booking'] = dft['company_booking'].astype('int')\n",
    "dft['parking_Reservation'] = dft['parking_Reservation'].astype('int')"
   ]
  },
  {
   "cell_type": "markdown",
   "metadata": {},
   "source": [
    "## Predict"
   ]
  },
  {
   "cell_type": "code",
   "execution_count": 230,
   "metadata": {},
   "outputs": [],
   "source": [
    "y_pred_test = xgb_model.predict(dft.values)\n",
    "submission = pd.concat([_id, pd.Series(y_pred_test, name='Reserva Cancelada')], axis=1)\n"
   ]
  },
  {
   "cell_type": "markdown",
   "metadata": {},
   "source": [
    "## Create submission file"
   ]
  },
  {
   "cell_type": "code",
   "execution_count": 231,
   "metadata": {},
   "outputs": [],
   "source": [
    "submission.to_csv('submission.csv', index=False)\n"
   ]
  },
  {
   "cell_type": "code",
   "execution_count": 232,
   "metadata": {},
   "outputs": [
    {
     "data": {
      "text/html": [
       "<div>\n",
       "<style scoped>\n",
       "    .dataframe tbody tr th:only-of-type {\n",
       "        vertical-align: middle;\n",
       "    }\n",
       "\n",
       "    .dataframe tbody tr th {\n",
       "        vertical-align: top;\n",
       "    }\n",
       "\n",
       "    .dataframe thead th {\n",
       "        text-align: right;\n",
       "    }\n",
       "</style>\n",
       "<table border=\"1\" class=\"dataframe\">\n",
       "  <thead>\n",
       "    <tr style=\"text-align: right;\">\n",
       "      <th></th>\n",
       "      <th>Reserva Cancelada</th>\n",
       "      <th>Total</th>\n",
       "      <th>Percent</th>\n",
       "    </tr>\n",
       "  </thead>\n",
       "  <tbody>\n",
       "    <tr>\n",
       "      <th>0</th>\n",
       "      <td>0</td>\n",
       "      <td>33327</td>\n",
       "      <td>0.692783</td>\n",
       "    </tr>\n",
       "    <tr>\n",
       "      <th>1</th>\n",
       "      <td>1</td>\n",
       "      <td>14779</td>\n",
       "      <td>0.307217</td>\n",
       "    </tr>\n",
       "  </tbody>\n",
       "</table>\n",
       "</div>"
      ],
      "text/plain": [
       "   Reserva Cancelada  Total   Percent\n",
       "0                  0  33327  0.692783\n",
       "1                  1  14779  0.307217"
      ]
     },
     "execution_count": 232,
     "metadata": {},
     "output_type": "execute_result"
    }
   ],
   "source": [
    "percent2 = submission.groupby('Reserva Cancelada')['id'].count().reset_index()\n",
    "percent2['Percent'] = percent2['id']/submission.shape[0]\n",
    "percent2.rename(columns={'id': 'Total'}, inplace=True)\n",
    "percent2\n"
   ]
  },
  {
   "cell_type": "code",
   "execution_count": null,
   "metadata": {},
   "outputs": [],
   "source": []
  },
  {
   "cell_type": "code",
   "execution_count": null,
   "metadata": {},
   "outputs": [],
   "source": []
  }
 ],
 "metadata": {
  "kernelspec": {
   "display_name": "Python 3 (ipykernel)",
   "language": "python",
   "name": "python3"
  },
  "language_info": {
   "codemirror_mode": {
    "name": "ipython",
    "version": 3
   },
   "file_extension": ".py",
   "mimetype": "text/x-python",
   "name": "python",
   "nbconvert_exporter": "python",
   "pygments_lexer": "ipython3",
   "version": "3.10.11"
  },
  "vscode": {
   "interpreter": {
    "hash": "96ea18d691572f41e5982093b44bc8a9e0f0326a2ee4473b06339fc9d0d745cd"
   }
  }
 },
 "nbformat": 4,
 "nbformat_minor": 2
}
