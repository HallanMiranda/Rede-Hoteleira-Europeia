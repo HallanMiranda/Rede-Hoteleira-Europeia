{
 "cells": [
  {
   "cell_type": "markdown",
   "id": "fb3afee8",
   "metadata": {},
   "source": []
  },
  {
   "cell_type": "code",
   "execution_count": 4,
   "id": "8763633b",
   "metadata": {},
   "outputs": [
    {
     "data": {
      "image/jpeg": "[encoded data removed]",
      "text/plain": [
       "<IPython.core.display.Image object>"
      ]
     },
     "execution_count": 4,
     "metadata": {
      "image/jpeg": {
       "width": 900
      }
     },
     "output_type": "execute_result"
    }
   ],
   "source": [
    "from IPython.display import Image\n",
    "Image(\"image/hotel.jpeg\", width=900)\n"
   ]
  },
  {
   "cell_type": "markdown",
   "id": "742bd262",
   "metadata": {},
   "source": []
  },
  {
   "cell_type": "markdown",
   "id": "43a534dd",
   "metadata": {},
   "source": [
    "# 0.0. IMPORTS"
   ]
  },
  {
   "cell_type": "code",
   "execution_count": null,
   "id": "a8185c5f-98a3-4e96-8dba-d73faac0bb53",
   "metadata": {},
   "outputs": [],
   "source": [
    "import pandas as pd\n",
    "import numpy as np\n"
   ]
  },
  {
   "cell_type": "markdown",
   "id": "60d1e309",
   "metadata": {},
   "source": [
    "## 0.1 Helper Functions"
   ]
  },
  {
   "cell_type": "code",
   "execution_count": null,
   "id": "ab5438a7",
   "metadata": {},
   "outputs": [],
   "source": []
  },
  {
   "cell_type": "markdown",
   "id": "867697a4",
   "metadata": {},
   "source": [
    "# 1.0. DATA DESCRIPTION"
   ]
  },
  {
   "cell_type": "code",
   "execution_count": null,
   "id": "a3925780-b664-46d7-8866-6e01942e8c7e",
   "metadata": {},
   "outputs": [],
   "source": []
  },
  {
   "cell_type": "markdown",
   "id": "81c975dd",
   "metadata": {},
   "source": [
    "# 2.0. FEATUREENGINEEERING"
   ]
  },
  {
   "cell_type": "code",
   "execution_count": null,
   "id": "4ccf1d9f-6880-408e-92fa-62e5ad8b1c1d",
   "metadata": {},
   "outputs": [],
   "source": []
  },
  {
   "cell_type": "markdown",
   "id": "36a657f6",
   "metadata": {},
   "source": [
    "# 3.0. FILTERING OF VARIABLES"
   ]
  },
  {
   "cell_type": "code",
   "execution_count": null,
   "id": "84ad7c2e-ad86-41d3-b12c-e7b801ef997d",
   "metadata": {},
   "outputs": [],
   "source": []
  },
  {
   "cell_type": "markdown",
   "id": "410d7549",
   "metadata": {},
   "source": [
    "# 4.0. EXPLORATORY DATA ANALYSIS"
   ]
  },
  {
   "cell_type": "code",
   "execution_count": null,
   "id": "5b5762d5-84fc-4b20-a5d7-358d924fce8c",
   "metadata": {},
   "outputs": [],
   "source": []
  },
  {
   "cell_type": "markdown",
   "id": "b38a543d",
   "metadata": {},
   "source": [
    "# 5.0. DATA PREPARATION"
   ]
  },
  {
   "cell_type": "code",
   "execution_count": null,
   "id": "f5c5b5b8-700e-44b5-8dd8-7d36f4f0b14d",
   "metadata": {},
   "outputs": [],
   "source": []
  },
  {
   "cell_type": "markdown",
   "id": "7fe5cb06",
   "metadata": {},
   "source": [
    "# 6.0. FEATURE SELECTION"
   ]
  },
  {
   "cell_type": "code",
   "execution_count": null,
   "id": "c159d694-148d-4bc2-9d9c-ff23010b037f",
   "metadata": {},
   "outputs": [],
   "source": []
  },
  {
   "cell_type": "markdown",
   "id": "3ac64da2",
   "metadata": {},
   "source": [
    "# 7.0.  MACHINE LEARNING MODELLING"
   ]
  },
  {
   "cell_type": "code",
   "execution_count": null,
   "id": "6194383e-eca4-42e9-b949-acc9d3a8cb55",
   "metadata": {},
   "outputs": [],
   "source": []
  },
  {
   "cell_type": "markdown",
   "id": "8dc68421",
   "metadata": {},
   "source": [
    "# 8.0.  HYPERPARAMETER FINE TUNING"
   ]
  },
  {
   "cell_type": "code",
   "execution_count": null,
   "id": "a656dcea-3625-4a10-aa8c-43fda874108c",
   "metadata": {},
   "outputs": [],
   "source": []
  },
  {
   "cell_type": "markdown",
   "id": "30a9420c",
   "metadata": {},
   "source": [
    "# 9.0. TRADUCAO E INTERPRETACAO DO ERRO"
   ]
  },
  {
   "cell_type": "code",
   "execution_count": null,
   "id": "a7af1050-de38-4dc3-bf85-030a5e0a6f04",
   "metadata": {},
   "outputs": [],
   "source": []
  },
  {
   "cell_type": "markdown",
   "id": "8b388f90",
   "metadata": {},
   "source": [
    "# 10.0.DEPLOY MODEL TO PRODUCTION"
   ]
  },
  {
   "cell_type": "code",
   "execution_count": null,
   "id": "2879a60a-9ffd-4689-8cb5-02802c478db9",
   "metadata": {},
   "outputs": [],
   "source": []
  },
  {
   "cell_type": "code",
   "execution_count": null,
   "id": "a31dc5ed-62c8-4de8-8516-f7ca82ca6311",
   "metadata": {},
   "outputs": [],
   "source": []
  },
  {
   "cell_type": "code",
   "execution_count": null,
   "id": "4c6c9291-978e-4eee-988b-11ab55b4d0a6",
   "metadata": {},
   "outputs": [],
   "source": []
  },
  {
   "cell_type": "code",
   "execution_count": null,
   "id": "32d04b27-04fe-4977-b2d4-fd6543c77ec4",
   "metadata": {},
   "outputs": [],
   "source": []
  },
  {
   "cell_type": "code",
   "execution_count": null,
   "id": "b3ec1b33-3a6c-4258-8418-02a6c224d26a",
   "metadata": {},
   "outputs": [],
   "source": []
  },
  {
   "cell_type": "code",
   "execution_count": null,
   "id": "2b87b6c5-3bd7-40e6-b6eb-cef17977f41b",
   "metadata": {},
   "outputs": [],
   "source": []
  },
  {
   "cell_type": "code",
   "execution_count": null,
   "id": "1f7ad983-53e8-4b2b-849a-7729a6866608",
   "metadata": {},
   "outputs": [],
   "source": []
  },
  {
   "cell_type": "code",
   "execution_count": null,
   "id": "78e7e740-327a-4273-9c9e-5e44f817a542",
   "metadata": {},
   "outputs": [],
   "source": []
  },
  {
   "cell_type": "code",
   "execution_count": null,
   "id": "8a0677ad-1ca3-42d3-a443-43d2dac30c32",
   "metadata": {},
   "outputs": [],
   "source": []
  }
 ],
 "metadata": {
  "kernelspec": {
   "display_name": "Python 3 (ipykernel)",
   "language": "python",
   "name": "python3"
  },
  "language_info": {
   "codemirror_mode": {
    "name": "ipython",
    "version": 3
   },
   "file_extension": ".py",
   "mimetype": "text/x-python",
   "name": "python",
   "nbconvert_exporter": "python",
   "pygments_lexer": "ipython3",
   "version": "3.10.11"
  }
 },
 "nbformat": 4,
 "nbformat_minor": 5
}
