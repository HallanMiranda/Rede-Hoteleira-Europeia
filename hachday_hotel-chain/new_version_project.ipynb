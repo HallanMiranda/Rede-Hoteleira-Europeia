{
 "cells": [
  {
   "attachments": {},
   "cell_type": "markdown",
   "id": "fb3afee8",
   "metadata": {},
   "source": []
  },
  {
   "cell_type": "code",
   "execution_count": null,
   "id": "8763633b",
   "metadata": {},
   "outputs": [
    {
     "data": {
      "image/jpeg": "[encoded data removed]",
      "text/plain": [
       "<IPython.core.display.Image object>"
      ]
     },
     "execution_count": 4,
     "metadata": {
      "image/jpeg": {
       "width": 900
      }
     },
     "output_type": "execute_result"
    }
   ],
   "source": [
    "from IPython.display import Image\n",
    "Image(\"image/hotel.jpeg\", width=900)\n"
   ]
  },
  {
   "attachments": {},
   "cell_type": "markdown",
   "id": "742bd262",
   "metadata": {},
   "source": []
  },
  {
   "attachments": {},
   "cell_type": "markdown",
   "id": "43a534dd",
   "metadata": {},
   "source": [
    "# 0.0. IMPORTS"
   ]
  },
  {
   "cell_type": "code",
   "execution_count": 2,
   "id": "a8185c5f-98a3-4e96-8dba-d73faac0bb53",
   "metadata": {},
   "outputs": [],
   "source": [
    "import pandas as pd\n",
    "import numpy as np\n"
   ]
  },
  {
   "attachments": {},
   "cell_type": "markdown",
   "id": "60d1e309",
   "metadata": {},
   "source": [
    "## 0.1 Helper Functions"
   ]
  },
  {
   "cell_type": "code",
   "execution_count": null,
   "id": "ab5438a7",
   "metadata": {},
   "outputs": [],
   "source": [
    "\n",
    "\n",
    "def jupyter_settings():\n",
    "    %matplotlib inline \n",
    "             \n",
    "    plt.style.use( 'bmh' )\n",
    "    plt.rcParams['figure.figsize'] = [25, 12]\n",
    "    plt.rcParams['font.size'] = 24\n",
    "    display( HTML( '<style>.container { width:100% !important; }</style>') ) \n",
    "    pd.options.display.max_columns = None\n",
    "    pd.options.display.max_rows = None\n",
    "    pd.set_option( 'display.expand_frame_repr', False )\n",
    "\n",
    "    sns.set()"
   ]
  },
  {
   "cell_type": "code",
   "execution_count": null,
   "id": "0d383d0c",
   "metadata": {},
   "outputs": [],
   "source": []
  },
  {
   "cell_type": "markdown",
   "id": "eb8ed7a7",
   "metadata": {},
   "source": [
    "## 0.2. Loading data"
   ]
  },
  {
   "cell_type": "code",
   "execution_count": null,
   "id": "b911edbd",
   "metadata": {},
   "outputs": [],
   "source": [
    "df_train = pd.read_csv('../hachday_hotel-chain/dataset/train.csv')\n",
    "df_test  = pd.read_csv('../hachday_hotel-chain/dataset/test.csv')\n",
    "sub_m = pd.read_csv('../hachday_hotel-chain/dataset/submission.csv')"
   ]
  },
  {
   "cell_type": "code",
   "execution_count": null,
   "id": "c1055e9c",
   "metadata": {},
   "outputs": [],
   "source": [
    "df = df_train.copy()"
   ]
  },
  {
   "attachments": {},
   "cell_type": "markdown",
   "id": "867697a4",
   "metadata": {},
   "source": [
    "# 1.0. DATA DESCRIPTION"
   ]
  },
  {
   "cell_type": "code",
   "execution_count": null,
   "id": "a3925780-b664-46d7-8866-6e01942e8c7e",
   "metadata": {},
   "outputs": [],
   "source": []
  },
  {
   "attachments": {},
   "cell_type": "markdown",
   "id": "81c975dd",
   "metadata": {},
   "source": [
    "# 2.0. FEATUREENGINEEERING"
   ]
  },
  {
   "cell_type": "code",
   "execution_count": null,
   "id": "4ccf1d9f-6880-408e-92fa-62e5ad8b1c1d",
   "metadata": {},
   "outputs": [],
   "source": []
  },
  {
   "attachments": {},
   "cell_type": "markdown",
   "id": "36a657f6",
   "metadata": {},
   "source": [
    "# 3.0. FILTERING OF VARIABLES"
   ]
  },
  {
   "cell_type": "code",
   "execution_count": null,
   "id": "84ad7c2e-ad86-41d3-b12c-e7b801ef997d",
   "metadata": {},
   "outputs": [],
   "source": []
  },
  {
   "attachments": {},
   "cell_type": "markdown",
   "id": "410d7549",
   "metadata": {},
   "source": [
    "# 4.0. EXPLORATORY DATA ANALYSIS"
   ]
  },
  {
   "cell_type": "code",
   "execution_count": null,
   "id": "5b5762d5-84fc-4b20-a5d7-358d924fce8c",
   "metadata": {},
   "outputs": [],
   "source": []
  },
  {
   "attachments": {},
   "cell_type": "markdown",
   "id": "b38a543d",
   "metadata": {},
   "source": [
    "# 5.0. DATA PREPARATION"
   ]
  },
  {
   "cell_type": "code",
   "execution_count": 61,
   "id": "29945e9b",
   "metadata": {},
   "outputs": [],
   "source": [
    "\n",
    "import seaborn as sns\n",
    "from autoviz.AutoViz_Class import AutoViz_Class\n",
    "import pandas as pd\n",
    "import matplotlib.pyplot as plt\n",
    "from sklearn.preprocessing import RobustScaler\n",
    "from sklearn.preprocessing import LabelEncoder\n",
    "%matplotlib inline"
   ]
  },
  {
   "cell_type": "code",
   "execution_count": 62,
   "id": "0b52f5a4",
   "metadata": {},
   "outputs": [],
   "source": [
    "train = pd.read_csv('dataset/train.csv')\n"
   ]
  },
  {
   "cell_type": "code",
   "execution_count": 63,
   "id": "af95604c",
   "metadata": {},
   "outputs": [],
   "source": [
    "train = train.rename(columns={'Classificação do hotel': 'hotel_rating', 'Meses da reserva até o check-in': 'month_booking',\n",
    "                        'Número de pernoites reservadas': 'number_stays_booking', 'Número de hospedes': 'number_guests',\n",
    "                        'Regime de alimentação': 'meal_regime', 'Nacionalidade': 'nationality', 'Forma de Reserva': 'reservation_Form',\n",
    "                        'Já se hospedou anterioremente': 'previously_hosted', 'Tipo do quarto reservado': 'type_booked_room',\n",
    "                        'Reserva feita por agência de turismo': 'tourism_agency_booking', 'Reserva feita por empresa': 'company_booking',\n",
    "                        'Reserva com Estacionamento': 'parking_Reservation', 'Reserva com Observações': 'reservation_Observations', 'Reserva Cancelada': 'booking_canceled'})"
   ]
  },
  {
   "cell_type": "code",
   "execution_count": 64,
   "id": "02c9c3ad",
   "metadata": {},
   "outputs": [],
   "source": [
    "dicionario = pd.DataFrame([{'Classificação do hotel': 'hotel_rating', 'Meses da reserva até o check-in': 'month_booking',\n",
    "                        'Número de pernoites reservadas': 'number_stays_booking', 'Número de hospedes': 'number_guests',\n",
    "                        'Regime de alimentação': 'meal_regime', 'Nacionalidade': 'nationality', 'Forma de Reserva': 'reservation_Form',\n",
    "                        'Já se hospedou anterioremente': 'previously_hosted', 'Tipo do quarto reservado': 'type_booked_room',\n",
    "                        'Reserva feita por agência de turismo': 'tourism_agency_booking', 'Reserva feita por empresa': 'company_booking',\n",
    "                        'Reserva com Estacionamento': 'parking_Reservation', 'Reserva com Observações': 'reservation_Observations', 'Reserva Cancelada': 'booking_canceled'}])\n",
    "\n",
    "dicionario = dicionario.T"
   ]
  },
  {
   "attachments": {},
   "cell_type": "markdown",
   "id": "5fb9bb12",
   "metadata": {},
   "source": [
    "## 5.1 Rescaling"
   ]
  },
  {
   "cell_type": "code",
   "execution_count": 65,
   "id": "18ad070f",
   "metadata": {},
   "outputs": [],
   "source": [
    "train = train[train['number_guests'] > 0]\n"
   ]
  },
  {
   "cell_type": "code",
   "execution_count": 24,
   "id": "cda09cfb",
   "metadata": {},
   "outputs": [
    {
     "data": {
      "image/png": "[encoded data removed]",
      "text/plain": [
       "<Figure size 1500x600 with 3 Axes>"
      ]
     },
     "metadata": {},
     "output_type": "display_data"
    }
   ],
   "source": [
    "# Percebe-se que há outiliers extremos que não condiz com a realidade, porém para esse  ciclo vou considera-lo como parte do fenômeno.\n",
    "# Em primeira análise vou apenas entender os dados para desidir qual forma de reescala eu utilizarei.\n",
    "# Criação do gráfico de análise de outliers\n",
    "fig, (x1, x2, x3) = plt.subplots(1, 3, figsize=(15, 6))\n",
    "fig.suptitle('Análise de Outliers')\n",
    "\n",
    "x1.set_title('Meses da reserva até o check-in')\n",
    "x1.boxplot(train['month_booking'])\n",
    "\n",
    "x2.set_title('Número de pernoites reservadas')\n",
    "x2.boxplot(train['number_stays_booking'])\n",
    "\n",
    "x3.set_title('Número de hospedes')\n",
    "x3.boxplot(train['number_guests'])\n",
    "\n",
    "plt.show()"
   ]
  },
  {
   "cell_type": "code",
   "execution_count": 66,
   "id": "caef5744",
   "metadata": {},
   "outputs": [],
   "source": [
    "\n",
    "\n",
    "rs = RobustScaler()\n",
    "\n",
    "# Meses da reserva até o check-in\n",
    "train['month_booking'] = rs.fit_transform(train[['month_booking']].values)\n",
    "# Número de pernoites reservadas\n",
    "train['number_stays_booking'] = rs.fit_transform(train[['number_stays_booking']].values)\n",
    "# Número de Hospedes\n",
    "train['number_guests'] = rs.fit_transform(train[['number_guests']].values)\n"
   ]
  },
  {
   "attachments": {},
   "cell_type": "markdown",
   "id": "fc8c1b6e",
   "metadata": {},
   "source": [
    "## 5.2 Transform"
   ]
  },
  {
   "attachments": {},
   "cell_type": "markdown",
   "id": "d5ba6a5e",
   "metadata": {},
   "source": [
    "### 5.2.1 Encoding"
   ]
  },
  {
   "cell_type": "code",
   "execution_count": 67,
   "id": "abdb9043",
   "metadata": {},
   "outputs": [],
   "source": [
    "\n",
    "#OBSERVAÇÃO PARA UM PROXIMO CICLO: Utilizar Target encoder em nationality\n",
    "\n",
    "\n",
    "# Label Encoding\n",
    "# Label Encoder\n",
    "le = LabelEncoder()\n",
    "label_cols = ['reservation_Form', 'type_booked_room', 'nationality']\n",
    "for col in label_cols:\n",
    "    train[col] = le.fit_transform(train[col])\n",
    "    \n",
    "# Ordinal Enconding\n",
    "meal_regime = {'Café da manha e jantar': 2, 'Café da manha': 1, 'Sem refeicao': 0, 'Café da manha, almoco e jantar':3 }\n",
    "classificacao_dict = {'5 estrelas': 5, '4 estrelas': 4}\n",
    "observation = {'Nenhuma': 0, '1 a 3': 1,'Mais de 3': 2 }\n",
    "\n",
    "#hotel_rating\n",
    "train['hotel_rating'] = train['hotel_rating'].map(classificacao_dict)\n",
    "\n",
    "# Regime de alimentação\n",
    "train['meal_regime'] = train['meal_regime'].map(meal_regime)\n",
    "\n",
    "# reservation_Observations\n",
    "train['reservation_Observations'] = train['reservation_Observations'].map(observation)\n",
    "\n",
    "\n",
    "#booleano\n",
    "bool_cols = ['previously_hosted','tourism_agency_booking','company_booking','parking_Reservation']\n",
    "for col in bool_cols:\n",
    "    train[col] = train[col].apply(\n",
    "        lambda x: 0 if x == 'Não' else 1 if x == 'Sim' else x)"
   ]
  },
  {
   "cell_type": "code",
   "execution_count": 68,
   "id": "10e38599",
   "metadata": {},
   "outputs": [
    {
     "data": {
      "text/html": [
       "<div>\n",
       "<style scoped>\n",
       "    .dataframe tbody tr th:only-of-type {\n",
       "        vertical-align: middle;\n",
       "    }\n",
       "\n",
       "    .dataframe tbody tr th {\n",
       "        vertical-align: top;\n",
       "    }\n",
       "\n",
       "    .dataframe thead th {\n",
       "        text-align: right;\n",
       "    }\n",
       "</style>\n",
       "<table border=\"1\" class=\"dataframe\">\n",
       "  <thead>\n",
       "    <tr style=\"text-align: right;\">\n",
       "      <th></th>\n",
       "      <th>id</th>\n",
       "      <th>hotel_rating</th>\n",
       "      <th>month_booking</th>\n",
       "      <th>number_stays_booking</th>\n",
       "      <th>number_guests</th>\n",
       "      <th>meal_regime</th>\n",
       "      <th>nationality</th>\n",
       "      <th>reservation_Form</th>\n",
       "      <th>previously_hosted</th>\n",
       "      <th>type_booked_room</th>\n",
       "      <th>tourism_agency_booking</th>\n",
       "      <th>company_booking</th>\n",
       "      <th>parking_Reservation</th>\n",
       "      <th>reservation_Observations</th>\n",
       "      <th>booking_canceled</th>\n",
       "    </tr>\n",
       "  </thead>\n",
       "  <tbody>\n",
       "    <tr>\n",
       "      <th>0</th>\n",
       "      <td>33571</td>\n",
       "      <td>5</td>\n",
       "      <td>0.4</td>\n",
       "      <td>1.0</td>\n",
       "      <td>0.0</td>\n",
       "      <td>2</td>\n",
       "      <td>53</td>\n",
       "      <td>0</td>\n",
       "      <td>0</td>\n",
       "      <td>0</td>\n",
       "      <td>1</td>\n",
       "      <td>0</td>\n",
       "      <td>1</td>\n",
       "      <td>0</td>\n",
       "      <td>0</td>\n",
       "    </tr>\n",
       "    <tr>\n",
       "      <th>1</th>\n",
       "      <td>82458</td>\n",
       "      <td>4</td>\n",
       "      <td>32.8</td>\n",
       "      <td>0.0</td>\n",
       "      <td>0.0</td>\n",
       "      <td>1</td>\n",
       "      <td>140</td>\n",
       "      <td>0</td>\n",
       "      <td>0</td>\n",
       "      <td>0</td>\n",
       "      <td>1</td>\n",
       "      <td>0</td>\n",
       "      <td>0</td>\n",
       "      <td>0</td>\n",
       "      <td>1</td>\n",
       "    </tr>\n",
       "  </tbody>\n",
       "</table>\n",
       "</div>"
      ],
      "text/plain": [
       "      id  hotel_rating  month_booking  number_stays_booking  number_guests  \\\n",
       "0  33571             5            0.4                   1.0            0.0   \n",
       "1  82458             4           32.8                   0.0            0.0   \n",
       "\n",
       "   meal_regime  nationality  reservation_Form  previously_hosted  \\\n",
       "0            2           53                 0                  0   \n",
       "1            1          140                 0                  0   \n",
       "\n",
       "   type_booked_room  tourism_agency_booking  company_booking  \\\n",
       "0                 0                       1                0   \n",
       "1                 0                       1                0   \n",
       "\n",
       "   parking_Reservation  reservation_Observations  booking_canceled  \n",
       "0                    1                         0                 0  \n",
       "1                    0                         0                 1  "
      ]
     },
     "execution_count": 68,
     "metadata": {},
     "output_type": "execute_result"
    }
   ],
   "source": [
    "train.head(2)"
   ]
  },
  {
   "attachments": {},
   "cell_type": "markdown",
   "id": "3ac64da2",
   "metadata": {},
   "source": [
    "# 7.0.  MACHINE LEARNING MODELLING"
   ]
  },
  {
   "cell_type": "code",
   "execution_count": null,
   "id": "6194383e-eca4-42e9-b949-acc9d3a8cb55",
   "metadata": {},
   "outputs": [],
   "source": []
  },
  {
   "attachments": {},
   "cell_type": "markdown",
   "id": "8dc68421",
   "metadata": {},
   "source": [
    "# 8.0.  HYPERPARAMETER FINE TUNING"
   ]
  },
  {
   "cell_type": "code",
   "execution_count": null,
   "id": "a656dcea-3625-4a10-aa8c-43fda874108c",
   "metadata": {},
   "outputs": [],
   "source": []
  },
  {
   "attachments": {},
   "cell_type": "markdown",
   "id": "30a9420c",
   "metadata": {},
   "source": [
    "# 9.0. TRADUCAO E INTERPRETACAO DO ERRO"
   ]
  },
  {
   "cell_type": "code",
   "execution_count": null,
   "id": "a7af1050-de38-4dc3-bf85-030a5e0a6f04",
   "metadata": {},
   "outputs": [],
   "source": []
  },
  {
   "attachments": {},
   "cell_type": "markdown",
   "id": "8b388f90",
   "metadata": {},
   "source": [
    "# 10.0.DEPLOY MODEL TO PRODUCTION"
   ]
  },
  {
   "cell_type": "code",
   "execution_count": null,
   "id": "2879a60a-9ffd-4689-8cb5-02802c478db9",
   "metadata": {},
   "outputs": [],
   "source": []
  },
  {
   "cell_type": "code",
   "execution_count": null,
   "id": "a31dc5ed-62c8-4de8-8516-f7ca82ca6311",
   "metadata": {},
   "outputs": [],
   "source": []
  },
  {
   "cell_type": "code",
   "execution_count": null,
   "id": "4c6c9291-978e-4eee-988b-11ab55b4d0a6",
   "metadata": {},
   "outputs": [],
   "source": []
  },
  {
   "cell_type": "code",
   "execution_count": null,
   "id": "32d04b27-04fe-4977-b2d4-fd6543c77ec4",
   "metadata": {},
   "outputs": [],
   "source": []
  },
  {
   "cell_type": "code",
   "execution_count": null,
   "id": "b3ec1b33-3a6c-4258-8418-02a6c224d26a",
   "metadata": {},
   "outputs": [],
   "source": []
  },
  {
   "cell_type": "code",
   "execution_count": null,
   "id": "2b87b6c5-3bd7-40e6-b6eb-cef17977f41b",
   "metadata": {},
   "outputs": [],
   "source": []
  },
  {
   "cell_type": "code",
   "execution_count": null,
   "id": "1f7ad983-53e8-4b2b-849a-7729a6866608",
   "metadata": {},
   "outputs": [],
   "source": []
  },
  {
   "cell_type": "code",
   "execution_count": null,
   "id": "78e7e740-327a-4273-9c9e-5e44f817a542",
   "metadata": {},
   "outputs": [],
   "source": []
  },
  {
   "cell_type": "code",
   "execution_count": null,
   "id": "8a0677ad-1ca3-42d3-a443-43d2dac30c32",
   "metadata": {},
   "outputs": [],
   "source": []
  }
 ],
 "metadata": {
  "kernelspec": {
   "display_name": "Python 3 (ipykernel)",
   "language": "python",
   "name": "python3"
  },
  "language_info": {
   "codemirror_mode": {
    "name": "ipython",
    "version": 3
   },
   "file_extension": ".py",
   "mimetype": "text/x-python",
   "name": "python",
   "nbconvert_exporter": "python",
   "pygments_lexer": "ipython3",
   "version": "3.10.9"
  }
 },
 "nbformat": 4,
 "nbformat_minor": 5
}
